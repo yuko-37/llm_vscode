{
 "cells": [
  {
   "cell_type": "code",
   "execution_count": null,
   "id": "d57306d7-7a8f-43c4-ba96-d531bcc48fce",
   "metadata": {},
   "outputs": [],
   "source": [
    "import os\n",
    "from dotenv import load_dotenv\n",
    "import openai\n",
    "import anthropic\n",
    "from IPython.display import Markdown, display, update_display\n",
    "import google.generativeai as genai"
   ]
  },
  {
   "cell_type": "code",
   "execution_count": null,
   "id": "635f5072-9a9d-405f-9b68-9d7b53a0412c",
   "metadata": {},
   "outputs": [],
   "source": [
    "load_dotenv(override=True)\n",
    "\n",
    "openai_api_key = os.getenv('OPENAI_API_KEY')\n",
    "anthropic_api_key = os.getenv('ANTHROPIC_API_KEY')\n",
    "google_api_key = os.getenv('GOOGLE_API_KEY')\n",
    "deepseek_api_key = os.getenv('DEEPSEEK_API_KEY')\n",
    "\n",
    "if openai_api_key:\n",
    "    print(f\"OpenAI API Key exists and begins {openai_api_key[:8]}\")\n",
    "else:\n",
    "    print(\"OpenAI API Key not set\")\n",
    "    \n",
    "if anthropic_api_key:\n",
    "    print(f\"Anthropic API Key exists and begins {anthropic_api_key[:7]}\")\n",
    "else:\n",
    "    print(\"Anthropic API Key not set\")\n",
    "\n",
    "if google_api_key:\n",
    "    print(f\"Google API Key exists and begins {google_api_key[:8]}\")\n",
    "else:\n",
    "    print(\"Google API Key not set\")\n",
    "\n",
    "if deepseek_api_key:\n",
    "    print(f\"Deepseek API Key exists and begins {deepseek_api_key[:8]}\")\n",
    "else:\n",
    "    print(\"DeepSeek API Key not set\")\n",
    "    "
   ]
  },
  {
   "cell_type": "code",
   "execution_count": null,
   "id": "084da8fe-9a73-4002-886d-c0bc748ba9ea",
   "metadata": {},
   "outputs": [],
   "source": [
    "system_message = 'You are assistant that is great at telling jokes'\n",
    "user_prompt = 'Tell a light-hearted joke to an audience of Data Scientists'"
   ]
  },
  {
   "cell_type": "code",
   "execution_count": null,
   "id": "886e11af-ffd1-4d58-81cc-e14a8846560b",
   "metadata": {},
   "outputs": [],
   "source": [
    "prompts = [\n",
    "    {'role': 'system', 'content': system_message},\n",
    "    {'role': 'user', 'content': user_prompt}\n",
    "]"
   ]
  },
  {
   "cell_type": "code",
   "execution_count": null,
   "id": "493c9e70-c1e8-4d62-922f-68469ad4aee8",
   "metadata": {},
   "outputs": [],
   "source": [
    "completion = openai.chat.completions.create(\n",
    "    model='gpt-3.5-turbo', messages=prompts\n",
    ")\n",
    "print(completion.choices[0].message.content)"
   ]
  },
  {
   "cell_type": "code",
   "execution_count": null,
   "id": "1038d277-eb8e-4d88-b63a-50e8ab993229",
   "metadata": {},
   "outputs": [],
   "source": [
    "completion = openai.chat.completions.create(\n",
    "    model='gpt-4o-mini',\n",
    "    messages=prompts,\n",
    "    temperature=0.4\n",
    ")\n",
    "print(completion.choices[0].message.content)"
   ]
  },
  {
   "cell_type": "code",
   "execution_count": null,
   "id": "596a78f6-7851-48ac-a718-b4a8b5e079b8",
   "metadata": {},
   "outputs": [],
   "source": [
    "claude = anthropic.Anthropic(\n",
    "    api_key=anthropic_api_key\n",
    ")"
   ]
  },
  {
   "cell_type": "code",
   "execution_count": null,
   "id": "22cf0c4d-aedc-4166-ac37-8221da1207cd",
   "metadata": {},
   "outputs": [],
   "source": [
    "message = claude.messages.create(\n",
    "    model='claude-3-5-sonnet-20240620',\n",
    "    max_tokens=200,\n",
    "    temperature=0.7,\n",
    "    system=system_message,\n",
    "    messages=[\n",
    "        {'role': 'user', 'content': user_prompt}\n",
    "    ]\n",
    ")\n",
    "print(message.content[0].text)"
   ]
  },
  {
   "cell_type": "code",
   "execution_count": null,
   "id": "b51c0492-3570-4641-9c91-8d83d9b12202",
   "metadata": {},
   "outputs": [],
   "source": [
    "result = claude.messages.stream(\n",
    "    model='claude-3-5-sonnet-20240620',\n",
    "    max_tokens=200,\n",
    "    temperature=0.7,\n",
    "    system=system_message,\n",
    "    messages=[\n",
    "        {'role': 'user', 'content': user_prompt}\n",
    "    ]\n",
    ")\n",
    "\n",
    "reply = ''\n",
    "with result as stream:\n",
    "    for text in stream.text_stream:\n",
    "        reply += text or ''\n",
    "\n",
    "print(reply)\n",
    "complete_response = stream.get_final_message()\n",
    "print('\\n\\n')\n",
    "print(complete_response.content[0].text)\n"
   ]
  },
  {
   "cell_type": "code",
   "execution_count": null,
   "id": "68e6b147-3583-4e6e-8368-2b2559fd94e0",
   "metadata": {},
   "outputs": [],
   "source": [
    "genai.configure(api_key=google_api_key)\n",
    "gemini = genai.GenerativeModel(\n",
    "    model_name='gemini-1.5-flash',\n",
    "    system_instruction=system_message\n",
    ")\n",
    "response = gemini.generate_content(user_prompt)\n",
    "print(response.text)"
   ]
  },
  {
   "cell_type": "code",
   "execution_count": null,
   "id": "7dae77e4-2dbc-42f0-97a5-8259d91ae331",
   "metadata": {},
   "outputs": [],
   "source": [
    "stream = openai.chat.completions.create(\n",
    "    model='gpt-4o',\n",
    "    messages=prompts,\n",
    "    temperature=0.7,\n",
    "    stream=True\n",
    ")\n",
    "reply = ''\n",
    "for chunk in stream:\n",
    "    reply += chunk.choices[0].delta.content or ''\n",
    "\n",
    "print(reply)\n"
   ]
  },
  {
   "cell_type": "code",
   "execution_count": null,
   "id": "1cfcb8e6-39b8-4909-8f08-7bb5839d7b91",
   "metadata": {},
   "outputs": [],
   "source": [
    "deepseek = openai.OpenAI(\n",
    "    api_key=deepseek_api_key,\n",
    "    base_url=\"https://api.deepseek.com\"\n",
    ")\n",
    "response = deepseek.chat.completions.create(\n",
    "    model='deepseek-chat',\n",
    "    messages=[\n",
    "        {'role': 'system', 'content': system_message},\n",
    "        {'role': 'user', 'content': user_prompt}\n",
    "    ]\n",
    ")\n",
    "\n",
    "reply = response.choices[0].message.content\n",
    "\n",
    "display_handle = display(Markdown(\"\"), display_id=True)\n",
    "update_display(Markdown(reply), display_id=display_handle.display_id)\n"
   ]
  },
  {
   "cell_type": "code",
   "execution_count": null,
   "id": "9f99ced7-001f-48c7-8083-0b59bc841a78",
   "metadata": {},
   "outputs": [],
   "source": [
    "gpt_model = 'gpt-4o-mini'\n",
    "claude_model = 'claude-3-haiku-20240307'\n",
    "\n",
    "gpt_system = 'Ты чатбот, который любит спорить, всё ставит под сомнение и отвечает в саркастической манере.'\n",
    "claude_system = 'Ты чатбот, который очень любезен и вежлив и избегаешь споров. Очень дружелюбный.'\n",
    "\n",
    "gpt_prompts = ['Приветствую']\n",
    "claude_prompts = ['Привет']"
   ]
  },
  {
   "cell_type": "code",
   "execution_count": null,
   "id": "d53ad900-8bbf-406b-ab50-acabd5baecf3",
   "metadata": {},
   "outputs": [],
   "source": [
    "def call_gpt():\n",
    "    prompts = [\n",
    "        {'role': 'system', 'content': gpt_system}\n",
    "    ]\n",
    "    for gpt, claude_pr in zip(gpt_prompts, claude_prompts):\n",
    "        prompts.append({'role': 'assistant', 'content': gpt})\n",
    "        prompts.append({'role': 'user', 'content': claude_pr})\n",
    "    \n",
    "    completion = openai.chat.completions.create(\n",
    "        model=gpt_model,\n",
    "        messages=prompts\n",
    "    )\n",
    "    return completion.choices[0].message.content\n"
   ]
  },
  {
   "cell_type": "code",
   "execution_count": null,
   "id": "053b30f8-87ec-4bfe-a333-ad0bfb159fc6",
   "metadata": {},
   "outputs": [],
   "source": [
    "call_gpt()"
   ]
  },
  {
   "cell_type": "code",
   "execution_count": null,
   "id": "fbe1796f-8e3e-4e4b-8903-7c931ce309ca",
   "metadata": {},
   "outputs": [],
   "source": [
    "claude = anthropic.Anthropic(\n",
    "    api_key = anthropic_api_key\n",
    ")"
   ]
  },
  {
   "cell_type": "code",
   "execution_count": null,
   "id": "0509e83b-3f4d-451e-92a0-dd5995eb73c0",
   "metadata": {},
   "outputs": [],
   "source": [
    "def call_claude():\n",
    "    prompts = []\n",
    "    for gpt, claude_pr in zip(gpt_promts, claude_promts):\n",
    "        prompts.append({'role': 'user', 'content': gpt})\n",
    "        prompts.append({'role': 'assistant', 'content': claude_pr})\n",
    "    \n",
    "    prompts.append({'role': 'user', 'content': gpt_prompts[-1]})\n",
    "    message = claude.messages.create(\n",
    "        model = claude_model,\n",
    "        system = claude_system,\n",
    "        messages = prompts,\n",
    "        max_tokens = 500\n",
    "    )\n",
    "\n",
    "    return message.content[0].text\n",
    "    "
   ]
  },
  {
   "cell_type": "code",
   "execution_count": null,
   "id": "9028fb76-f86d-435c-aa54-90760f78d7d8",
   "metadata": {},
   "outputs": [],
   "source": [
    "call_claude()"
   ]
  },
  {
   "cell_type": "code",
   "execution_count": null,
   "id": "2bfbf068-a3e9-4486-8a79-56dc2d2c3dba",
   "metadata": {},
   "outputs": [],
   "source": [
    "gpt_prompts = ['Приветствую']\n",
    "claude_prompts = ['Привет']\n",
    "\n",
    "for i in range(5):\n",
    "    gpt_next = call_gpt()\n",
    "    print(f\"GPT:\\n{gpt_next}\")\n",
    "    gpt_prompts.append(gpt_next)\n",
    "\n",
    "    claude_next = call_claude()\n",
    "    print(f\"Claude:\\n{claude_next}\")\n",
    "    claude_prompts.append(claude_next)"
   ]
  },
  {
   "cell_type": "code",
   "execution_count": null,
   "id": "4dd0fc0c-67b7-40c2-8c37-b39482bed069",
   "metadata": {},
   "outputs": [],
   "source": []
  }
 ],
 "metadata": {
  "kernelspec": {
   "display_name": "Python 3 (ipykernel)",
   "language": "python",
   "name": "python3"
  },
  "language_info": {
   "codemirror_mode": {
    "name": "ipython",
    "version": 3
   },
   "file_extension": ".py",
   "mimetype": "text/x-python",
   "name": "python",
   "nbconvert_exporter": "python",
   "pygments_lexer": "ipython3",
   "version": "3.12.7"
  }
 },
 "nbformat": 4,
 "nbformat_minor": 5
}
