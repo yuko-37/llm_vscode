{
 "cells": [
  {
   "cell_type": "code",
   "execution_count": 1,
   "id": "ddfd6f56-b258-455c-a68b-e4b2e5163d84",
   "metadata": {},
   "outputs": [
    {
     "name": "stdout",
     "output_type": "stream",
     "text": [
      "Note: you may need to restart the kernel to use updated packages.\n"
     ]
    }
   ],
   "source": [
    "pip install -q -U google-genai"
   ]
  },
  {
   "cell_type": "code",
   "execution_count": 1,
   "id": "c31ab76c-2cf5-48ef-a616-c0be1f2375fd",
   "metadata": {},
   "outputs": [],
   "source": [
    "import os\n",
    "import gradio\n",
    "import openai\n",
    "import anthropic\n",
    "from google import genai\n",
    "from google.genai import types\n",
    "from dotenv import load_dotenv"
   ]
  },
  {
   "cell_type": "code",
   "execution_count": 2,
   "id": "f1780445-af5f-4613-b67c-b8a7004dfcf1",
   "metadata": {},
   "outputs": [],
   "source": [
    "load_dotenv()\n",
    "gpt = openai.OpenAI()\n",
    "claude = anthropic.Anthropic()\n",
    "gemini = genai.Client(api_key=os.getenv('GOOGLE_API_KEY'))\n",
    "\n"
   ]
  },
  {
   "cell_type": "code",
   "execution_count": 3,
   "id": "dc2c513d-cf50-448b-81e3-4dda9939e5fc",
   "metadata": {},
   "outputs": [],
   "source": [
    "def func(input):\n",
    "    print(f\"Get input = {input}\")\n",
    "    return input.upper()"
   ]
  },
  {
   "cell_type": "code",
   "execution_count": 35,
   "id": "5364edd2-9072-4471-8ae0-0197b3c4b061",
   "metadata": {},
   "outputs": [],
   "source": [
    "systemMessage = 'You are a very helpful assistant, specializing in translations. Respond in plain text.'"
   ]
  },
  {
   "cell_type": "code",
   "execution_count": 36,
   "id": "ba19455c-7679-46f1-8368-9ad30c104b92",
   "metadata": {},
   "outputs": [],
   "source": [
    "def ask_gpt(prompt):\n",
    "    completion = gpt.chat.completions.create(\n",
    "        model='gpt-4o-mini',\n",
    "        messages=[\n",
    "            {'role': 'system', 'content': systemMessage},\n",
    "            {'role': 'user', 'content': prompt}\n",
    "        ]\n",
    "    )\n",
    "\n",
    "    return completion.choices[0].message.content"
   ]
  },
  {
   "cell_type": "code",
   "execution_count": 37,
   "id": "0b418ea2-9919-44e7-bd1e-905f8f687f80",
   "metadata": {},
   "outputs": [],
   "source": [
    "def stream_gpt(prompt):\n",
    "    stream = gpt.chat.completions.create(\n",
    "        model='gpt-4o-mini',\n",
    "        messages=[\n",
    "            {'role': 'system', 'content': systemMessage},\n",
    "            {'role': 'user', 'content': prompt}\n",
    "        ],\n",
    "        stream=True\n",
    "    )\n",
    "    print(type(stream))\n",
    "    result = ''\n",
    "    for chunk in stream:\n",
    "        result += chunk.choices[0].delta.content or ''\n",
    "        yield result"
   ]
  },
  {
   "cell_type": "code",
   "execution_count": 38,
   "id": "862115a2-ccd6-4b79-9b4b-2ba80eae68db",
   "metadata": {},
   "outputs": [],
   "source": [
    "def ask_claude(prompt):\n",
    "    response = claude.messages.create(\n",
    "        model='claude-3-haiku-20240307',\n",
    "        max_tokens=100,\n",
    "        system=systemMessage,\n",
    "        messages=[\n",
    "            {'role': 'user', 'content': prompt}\n",
    "        ]\n",
    "    )\n",
    "    return response.content[0].text"
   ]
  },
  {
   "cell_type": "code",
   "execution_count": 39,
   "id": "0d37dfd5-8886-4521-b64e-0d6f0bfb99a2",
   "metadata": {},
   "outputs": [],
   "source": [
    "def stream_claude(prompt):\n",
    "    response = claude.messages.stream(\n",
    "        model='claude-3-haiku-20240307',\n",
    "        max_tokens=100,\n",
    "        system=systemMessage,\n",
    "        messages=[\n",
    "            {'role': 'user', 'content': prompt}\n",
    "        ]\n",
    "    )\n",
    "    print(type(response))\n",
    "    result = ''\n",
    "    with response as stream:\n",
    "        for text in stream.text_stream:\n",
    "            result += text or ''\n",
    "            yield result"
   ]
  },
  {
   "cell_type": "code",
   "execution_count": 40,
   "id": "195eda4f-8cc6-4060-a27a-3ec7f6653dde",
   "metadata": {},
   "outputs": [],
   "source": [
    "def ask_gemini(prompt):\n",
    "    response = gemini.models.generate_content(\n",
    "        model='gemini-2.0-flash',\n",
    "        config=types.GenerateContentConfig(\n",
    "            system_instruction=systemMessage),\n",
    "        contents=prompt\n",
    "    )\n",
    "    return response.text"
   ]
  },
  {
   "cell_type": "code",
   "execution_count": 41,
   "id": "37dde1dc-64b4-4f9d-aab9-57dfb79b5f34",
   "metadata": {},
   "outputs": [],
   "source": [
    "def stream_gemini(prompt):\n",
    "    response = gemini.models.generate_content_stream(\n",
    "        model='gemini-2.0-flash',\n",
    "        config=types.GenerateContentConfig(\n",
    "            system_instruction=systemMessage),\n",
    "        contents=prompt\n",
    "    )\n",
    "    print(type(response))\n",
    "    result = ''\n",
    "    for chunk in response:\n",
    "        result += chunk.text or ''\n",
    "        yield result"
   ]
  },
  {
   "cell_type": "code",
   "execution_count": 42,
   "id": "1718329f-2217-4d1b-8ca6-333190965cf5",
   "metadata": {},
   "outputs": [],
   "source": [
    "def ask_ai(prompt, model):\n",
    "    if model == 'GPT':\n",
    "        yield ask_gpt(prompt)\n",
    "    elif model == 'Claude':\n",
    "        yield ask_claude(prompt)\n",
    "    elif model == 'Gemini':\n",
    "        yield ask_gemini(prompt)\n",
    "    elif model == 'GPT Stream':\n",
    "        yield from stream_gpt(prompt)\n",
    "    elif model == 'Claude Stream':\n",
    "        yield from stream_claude(prompt)\n",
    "    elif model == 'Gemini Stream':\n",
    "        yield from stream_gemini(prompt)\n",
    "    else:\n",
    "        raise Exception('No woman, no cry')\n",
    "        "
   ]
  },
  {
   "cell_type": "code",
   "execution_count": 43,
   "id": "885ce33c-6187-4473-a7b2-bb6ef97821ee",
   "metadata": {},
   "outputs": [],
   "source": [
    "view = gradio.Interface(\n",
    "    fn = ask_ai,\n",
    "    inputs = [gradio.Textbox(value='переведи на русский: '), \n",
    "              gradio.Dropdown(['Gemini Stream', 'GPT Stream', 'Claude Stream'], \n",
    "                              label='Model')],\n",
    "    outputs = \"textbox\",\n",
    "    flagging_mode = 'never'\n",
    ")"
   ]
  },
  {
   "cell_type": "code",
   "execution_count": 44,
   "id": "a6e90d90-d0d9-4bf2-a498-a9de5bd7bb6c",
   "metadata": {},
   "outputs": [
    {
     "name": "stdout",
     "output_type": "stream",
     "text": [
      "* Running on local URL:  http://127.0.0.1:7866\n",
      "\n",
      "To create a public link, set `share=True` in `launch()`.\n"
     ]
    },
    {
     "data": {
      "text/html": [
       "<div><iframe src=\"http://127.0.0.1:7866/\" width=\"100%\" height=\"500\" allow=\"autoplay; camera; microphone; clipboard-read; clipboard-write;\" frameborder=\"0\" allowfullscreen></iframe></div>"
      ],
      "text/plain": [
       "<IPython.core.display.HTML object>"
      ]
     },
     "metadata": {},
     "output_type": "display_data"
    },
    {
     "data": {
      "text/plain": []
     },
     "execution_count": 44,
     "metadata": {},
     "output_type": "execute_result"
    },
    {
     "name": "stdout",
     "output_type": "stream",
     "text": [
      "<class 'generator'>\n"
     ]
    }
   ],
   "source": [
    "view.launch()"
   ]
  },
  {
   "cell_type": "code",
   "execution_count": null,
   "id": "38c584e7-833d-42e9-b9d0-92251440d55d",
   "metadata": {},
   "outputs": [],
   "source": []
  }
 ],
 "metadata": {
  "kernelspec": {
   "display_name": "Python 3 (ipykernel)",
   "language": "python",
   "name": "python3"
  },
  "language_info": {
   "codemirror_mode": {
    "name": "ipython",
    "version": 3
   },
   "file_extension": ".py",
   "mimetype": "text/x-python",
   "name": "python",
   "nbconvert_exporter": "python",
   "pygments_lexer": "ipython3",
   "version": "3.12.7"
  }
 },
 "nbformat": 4,
 "nbformat_minor": 5
}
