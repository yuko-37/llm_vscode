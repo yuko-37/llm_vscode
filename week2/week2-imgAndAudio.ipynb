{
 "cells": [
  {
   "cell_type": "code",
   "execution_count": 1,
   "id": "de78edeb-f6c8-4784-ab88-4dfbd3fde49f",
   "metadata": {},
   "outputs": [],
   "source": [
    "import os\n",
    "import base64\n",
    "\n",
    "from dotenv import load_dotenv\n",
    "from openai import OpenAI\n",
    "from io import BytesIO\n",
    "from PIL import Image"
   ]
  },
  {
   "cell_type": "code",
   "execution_count": 2,
   "id": "666cd645-2162-486f-b430-9cd0131e2681",
   "metadata": {},
   "outputs": [
    {
     "name": "stdout",
     "output_type": "stream",
     "text": [
      "sk-proj\n"
     ]
    }
   ],
   "source": [
    "load_dotenv(override=True)\n",
    "openai_api_key = os.getenv('OPENAI_API_KEY')\n",
    "print(openai_api_key[:7])"
   ]
  },
  {
   "cell_type": "code",
   "execution_count": 3,
   "id": "3f75dd8a-19a5-4182-b982-0d3e34f67583",
   "metadata": {},
   "outputs": [],
   "source": [
    "openai = OpenAI()"
   ]
  },
  {
   "cell_type": "code",
   "execution_count": 4,
   "id": "cd53f957-8e47-4dae-a49a-20fd0f436ee7",
   "metadata": {},
   "outputs": [],
   "source": [
    "def artist(city):\n",
    "    response = openai.images.generate(\n",
    "        model=\"dall-e-3\",\n",
    "        prompt=f\"Сгенерируй забавную картинку под шутку: Звери умнее, чем кажутся, особенно когда дело касается поиска еды в мусорном баке\",\n",
    "        size=\"1024x1024\",\n",
    "        n=1,\n",
    "        response_format=\"b64_json\"\n",
    "    )\n",
    "\n",
    "    image_base64 = response.data[0].b64_json\n",
    "    image_data = base64.b64decode(image_base64)\n",
    "    return Image.open(BytesIO(image_data))"
   ]
  },
  {
   "cell_type": "code",
   "execution_count": null,
   "id": "9a5adca0-9d6f-4aaa-b131-d6dbb20ca0c4",
   "metadata": {},
   "outputs": [],
   "source": [
    "image = artist(\"Asterdam\")\n",
    "# image.show()\n",
    "display(image)"
   ]
  },
  {
   "cell_type": "code",
   "execution_count": 5,
   "id": "b26617eb-790d-4288-ae56-16a8af7bde02",
   "metadata": {},
   "outputs": [],
   "source": [
    "from pydub import AudioSegment\n",
    "from pydub.playback import play"
   ]
  },
  {
   "cell_type": "code",
   "execution_count": 6,
   "id": "d85d892a-d993-4658-b501-9f7d0babd31c",
   "metadata": {},
   "outputs": [],
   "source": [
    "def talker(message):\n",
    "    response = openai.audio.speech.create(\n",
    "        model=\"tts-1\",\n",
    "        voice=\"alloy\",\n",
    "        input=message\n",
    "    )\n",
    "\n",
    "    audio_stream = BytesIO(response.content)\n",
    "    audio = AudioSegment.from_file(audio_stream, format=\"mp3\")\n",
    "    play(audio)"
   ]
  },
  {
   "cell_type": "code",
   "execution_count": 7,
   "id": "27ba3147-aea8-4907-bc8b-bfea4055e370",
   "metadata": {},
   "outputs": [
    {
     "name": "stderr",
     "output_type": "stream",
     "text": [
      "Input #0, wav, from '/var/folders/ny/bjrptr9d4f9c3mmxj10zzcl40000gp/T/tmpxug_2fvx.wav':\n",
      "  Duration: 00:00:01.56, bitrate: 384 kb/s\n",
      "  Stream #0:0: Audio: pcm_s16le ([1][0][0][0] / 0x0001), 24000 Hz, 1 channels, s16, 384 kb/s\n",
      "   1.51 M-A:  0.000 fd=   0 aq=    0KB vq=    0KB sq=    0B "
     ]
    },
    {
     "name": "stdout",
     "output_type": "stream",
     "text": [
      "\n"
     ]
    }
   ],
   "source": [
    "talker(\"Hi there, you are awesome!\")"
   ]
  },
  {
   "cell_type": "code",
   "execution_count": 8,
   "id": "20d2f88a-051a-4f29-abc2-d5768247823f",
   "metadata": {},
   "outputs": [],
   "source": [
    "system_prompt = \"You are a helpful assistant for an Airline called FlightAI. \"\n",
    "system_prompt += \"Give short, courteous answers, no more than 1 sentence. \"\n",
    "system_prompt += \"Always be accurate. If you don't know the answer, say so.\""
   ]
  },
  {
   "cell_type": "code",
   "execution_count": 9,
   "id": "f4affd14-53da-4d8a-86ee-54b4867f369d",
   "metadata": {},
   "outputs": [],
   "source": [
    "ticket_prices = {\"london\": \"$799\", \"paris\": \"$899\", \"tokyo\": \"$1400\", \"berlin\": \"$499\"}\n",
    "\n",
    "def get_ticket_price(city):\n",
    "    print(f'Tool get_ticket_price is called for {city}')\n",
    "    city = city.lower()\n",
    "    return ticket_prices.get(city, \"Unknown\")\n"
   ]
  },
  {
   "cell_type": "code",
   "execution_count": 10,
   "id": "24819e98-60cf-4747-a444-94afcb919bb4",
   "metadata": {},
   "outputs": [],
   "source": [
    "price_function = {\n",
    "    \"name\": \"get_ticket_price\",\n",
    "    \"description\": \"Get the price of a return ticket to the destination city. Call this whenever you need to know the ticket price, for example when a customer asks 'How much is a ticket to this city'\",\n",
    "    \"parameters\": {\n",
    "        \"type\": \"object\",\n",
    "        \"properties\": {\n",
    "            \"city\": {\n",
    "                \"type\": \"string\",\n",
    "                \"description\": \"The city that the customer wants to travel to\",\n",
    "            }\n",
    "        },\n",
    "        \"required\": [\"city\"],\n",
    "        \"additionalProperties\": False\n",
    "    }\n",
    "}"
   ]
  },
  {
   "cell_type": "code",
   "execution_count": 11,
   "id": "84e40022-c4c0-4182-ad3a-5b3e2562a5ba",
   "metadata": {},
   "outputs": [],
   "source": [
    "tools=[{\"type\": \"function\", \"function\": price_function}]"
   ]
  },
  {
   "cell_type": "code",
   "execution_count": 12,
   "id": "3dfefc53-89d9-4779-bbb6-87e183f514f9",
   "metadata": {},
   "outputs": [],
   "source": [
    "import json"
   ]
  },
  {
   "cell_type": "code",
   "execution_count": 13,
   "id": "af56ea50-844e-4f90-a3c9-dc499e2645ad",
   "metadata": {},
   "outputs": [],
   "source": [
    "def handle_tool_call(tool_call_msg):\n",
    "    tool_call = tool_call_msg.tool_calls[0]\n",
    "    arguments = json.loads(tool_call.function.arguments)\n",
    "    city = arguments.get('city')\n",
    "    price = get_ticket_price(city)\n",
    "\n",
    "    response = {\n",
    "        'role': 'tool',\n",
    "        'content': json.dumps({'city': city, 'price': price}),\n",
    "        'tool_call_id': tool_call.id\n",
    "    }\n",
    "    \n",
    "    return response, city"
   ]
  },
  {
   "cell_type": "code",
   "execution_count": 14,
   "id": "ef547dd3-5293-4822-a3bb-1903f9d4da64",
   "metadata": {},
   "outputs": [],
   "source": [
    "def chat_old(message, history):\n",
    "    messages = [{'role': 'system', 'content': system_prompt}] + history\n",
    "    messages += [{'role': 'user', 'content': message}]\n",
    "    response = openai.chat.completions.create(\n",
    "        model=\"gpt-4o-mini\",\n",
    "        messages=messages,\n",
    "        tools=tools\n",
    "    )\n",
    "\n",
    "    if response.choices[0].finish_reason == 'tool_calls':\n",
    "        tool_call_msg = response.choices[0].message\n",
    "        tool_call_response, city = handle_tool_call(tool_call_msg)\n",
    "        messages.append(tool_call_msg)\n",
    "        messages.append(tool_call_response)\n",
    "        response = openai.chat.completions.create(model='gpt-4o-mini', messages=messages)\n",
    "\n",
    "    return response.choices[0].message.content\n",
    "    "
   ]
  },
  {
   "cell_type": "code",
   "execution_count": 15,
   "id": "da8353f4-3c5c-4590-bdb9-45a664e5d6ff",
   "metadata": {},
   "outputs": [],
   "source": [
    "import gradio as gr"
   ]
  },
  {
   "cell_type": "code",
   "execution_count": 16,
   "id": "633ee5d0-4b61-4991-be22-f9b4dc2e8058",
   "metadata": {},
   "outputs": [
    {
     "name": "stdout",
     "output_type": "stream",
     "text": [
      "* Running on local URL:  http://127.0.0.1:7860\n",
      "\n",
      "To create a public link, set `share=True` in `launch()`.\n"
     ]
    },
    {
     "data": {
      "text/html": [
       "<div><iframe src=\"http://127.0.0.1:7860/\" width=\"100%\" height=\"500\" allow=\"autoplay; camera; microphone; clipboard-read; clipboard-write;\" frameborder=\"0\" allowfullscreen></iframe></div>"
      ],
      "text/plain": [
       "<IPython.core.display.HTML object>"
      ]
     },
     "metadata": {},
     "output_type": "display_data"
    },
    {
     "data": {
      "text/plain": []
     },
     "execution_count": 16,
     "metadata": {},
     "output_type": "execute_result"
    }
   ],
   "source": [
    "gr.ChatInterface(fn=chat_old, type='messages').launch()"
   ]
  },
  {
   "cell_type": "code",
   "execution_count": 17,
   "id": "c6e1ddf7-f18a-4b7e-bc9c-dc88002b1907",
   "metadata": {},
   "outputs": [],
   "source": [
    "def chat(history):\n",
    "    print(history)\n",
    "    \n",
    "    messages = [{'role': 'system', 'content': system_prompt}] + history\n",
    "    response = openai.chat.completions.create(\n",
    "        model=\"gpt-4o-mini\",\n",
    "        messages=messages,\n",
    "        tools=tools\n",
    "    )\n",
    "    image = None\n",
    "\n",
    "    if response.choices[0].finish_reason == 'tool_calls':\n",
    "        tool_call_msg = response.choices[0].message\n",
    "        tool_call_response, city = handle_tool_call(tool_call_msg)\n",
    "        messages.append(tool_call_msg)\n",
    "        messages.append(tool_call_response)\n",
    "        image = artist(city)\n",
    "        response = openai.chat.completions.create(model='gpt-4o-mini', messages=messages)\n",
    "\n",
    "    reply = response.choices[0].message.content\n",
    "    history += [{'role': 'assistant', 'content': reply}]\n",
    "\n",
    "    talker(reply)\n",
    "    \n",
    "    return history, image"
   ]
  },
  {
   "cell_type": "code",
   "execution_count": 18,
   "id": "c1e38bea-a8c8-45c9-bde6-382a054adada",
   "metadata": {},
   "outputs": [
    {
     "name": "stdout",
     "output_type": "stream",
     "text": [
      "* Running on local URL:  http://127.0.0.1:7861\n",
      "\n",
      "To create a public link, set `share=True` in `launch()`.\n"
     ]
    },
    {
     "data": {
      "text/html": [
       "<div><iframe src=\"http://127.0.0.1:7861/\" width=\"100%\" height=\"500\" allow=\"autoplay; camera; microphone; clipboard-read; clipboard-write;\" frameborder=\"0\" allowfullscreen></iframe></div>"
      ],
      "text/plain": [
       "<IPython.core.display.HTML object>"
      ]
     },
     "metadata": {},
     "output_type": "display_data"
    },
    {
     "data": {
      "text/plain": []
     },
     "execution_count": 18,
     "metadata": {},
     "output_type": "execute_result"
    }
   ],
   "source": [
    "with gr.Blocks() as ui:\n",
    "    with gr.Row():\n",
    "        chatbot = gr.Chatbot(height=500, type=\"messages\")\n",
    "        image_output = gr.Image(height=500)\n",
    "    with gr.Row():\n",
    "        entry = gr.Textbox(label=\"Chat with our AI Assistant:\")\n",
    "    with gr.Row():\n",
    "        clear = gr.Button(\"Clear\")\n",
    "\n",
    "    def do_entry(message, history):\n",
    "        history += [{'role': 'user', 'content': message}]\n",
    "        return \"\", history\n",
    "\n",
    "    entry.submit(do_entry, inputs=[entry, chatbot], outputs=[entry, chatbot]).then(\n",
    "        chat, inputs=[chatbot], outputs=[chatbot, image_output]\n",
    "    )\n",
    "    clear.click(lambda: None, inputs=None, outputs=chatbot, queue=False)\n",
    "\n",
    "ui.launch(inbrowser=True)"
   ]
  },
  {
   "cell_type": "code",
   "execution_count": null,
   "id": "eedff9b1-e476-4eff-aa8b-74a4b66bebb6",
   "metadata": {},
   "outputs": [],
   "source": []
  }
 ],
 "metadata": {
  "kernelspec": {
   "display_name": "Python 3 (ipykernel)",
   "language": "python",
   "name": "python3"
  },
  "language_info": {
   "codemirror_mode": {
    "name": "ipython",
    "version": 3
   },
   "file_extension": ".py",
   "mimetype": "text/x-python",
   "name": "python",
   "nbconvert_exporter": "python",
   "pygments_lexer": "ipython3",
   "version": "3.11.11"
  }
 },
 "nbformat": 4,
 "nbformat_minor": 5
}
