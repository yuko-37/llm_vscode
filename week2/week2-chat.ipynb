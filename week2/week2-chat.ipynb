{
 "cells": [
  {
   "cell_type": "code",
   "execution_count": 1,
   "id": "33dccbb5-2037-4de2-b6fd-1a5e1274623c",
   "metadata": {},
   "outputs": [],
   "source": [
    "import os\n",
    "from dotenv import load_dotenv\n",
    "from openai import OpenAI\n",
    "import gradio as gr\n"
   ]
  },
  {
   "cell_type": "code",
   "execution_count": 2,
   "id": "fe06b777-0989-49d2-8fc6-1f7349177b94",
   "metadata": {},
   "outputs": [
    {
     "name": "stdout",
     "output_type": "stream",
     "text": [
      "sk-proj-\n",
      "sk-ant-a\n",
      "AIzaSyCd\n"
     ]
    }
   ],
   "source": [
    "load_dotenv(override=True)\n",
    "openai_api_key = os.getenv('OPENAI_API_KEY')\n",
    "anthropic_api_key = os.getenv('ANTHROPIC_API_KEY')\n",
    "google_api_key = os.getenv('GOOGLE_API_KEY')\n",
    "\n",
    "print(f'{openai_api_key[:8]}')\n",
    "print(f'{anthropic_api_key[:8]}')\n",
    "print(f'{google_api_key[:8]}')"
   ]
  },
  {
   "cell_type": "code",
   "execution_count": 3,
   "id": "65fc4aae-4a28-40a7-baaf-eea94b299cfe",
   "metadata": {},
   "outputs": [],
   "source": [
    "openai = OpenAI()\n",
    "openai_model = 'gpt-4o-mini'\n",
    "system_prompt = (\"You are a very helpful assistant in clothes store.\"\n",
    "\"You gently encourage user to buy items on sale. The hats are 60% off and belts are 50% off.\")"
   ]
  },
  {
   "cell_type": "code",
   "execution_count": 4,
   "id": "59d7047d-bce6-4799-b85f-0c0ac6ba0e71",
   "metadata": {},
   "outputs": [
    {
     "name": "stdout",
     "output_type": "stream",
     "text": [
      "You are a very helpful assistant in clothes store.You gently encourage user to buy items on sale. The hats are 60% off and belts are 50% off.\n"
     ]
    }
   ],
   "source": [
    "print(system_prompt)"
   ]
  },
  {
   "cell_type": "code",
   "execution_count": 5,
   "id": "6cc73fb1-0108-4cee-8115-a1797ef2438b",
   "metadata": {},
   "outputs": [],
   "source": [
    "def chat(message, history):\n",
    "\n",
    "    relevant_system_prompt = system_prompt\n",
    "    \n",
    "    if 'shoes' in message:\n",
    "        relevant_system_prompt += ('There are no shoes in the store.'\n",
    "        'Gently remind user to look at items on sale')\n",
    "    \n",
    "    messages = [{'role': 'system', 'content': relevant_system_prompt}]\n",
    "    messages += history\n",
    "    messages += [{'role': 'user', 'content': message}]\n",
    "    \n",
    "    stream = openai.chat.completions.create(\n",
    "        model=openai_model,\n",
    "        messages=messages,\n",
    "        stream=True\n",
    "    )\n",
    "\n",
    "    result = ''\n",
    "    for chunk in stream:\n",
    "        result += chunk.choices[0].delta.content or ''\n",
    "        yield result\n"
   ]
  },
  {
   "cell_type": "code",
   "execution_count": 6,
   "id": "b8d4919e-b64a-4bdb-8554-ea20d361880e",
   "metadata": {},
   "outputs": [],
   "source": [
    "def chat2(message, history):\n",
    "\n",
    "    simulated_conversation = list()\n",
    "    if 'shirt' in message:\n",
    "        user_str = ('I would like to buy a pair of shirts')\n",
    "        assistant_str = ('We are sorry. At the moment we are out of shirts.'\n",
    "                      'But please take a look at our other items on sale.')\n",
    "        simulated_conversation.append({'role': 'user', 'content': user_str})\n",
    "        simulated_conversation.append({'role': 'assistant', 'content': assistant_str})\n",
    "    \n",
    "    \n",
    "    messages = [{'role': 'system', 'content': system_prompt}]\n",
    "    messages += history\n",
    "    messages += simulated_conversation\n",
    "    messages += [{'role': 'user', 'content': message}]\n",
    "    \n",
    "    stream = openai.chat.completions.create(\n",
    "        model=openai_model,\n",
    "        messages=messages,\n",
    "        stream=True\n",
    "    )\n",
    "\n",
    "    result = ''\n",
    "    for chunk in stream:\n",
    "        result += chunk.choices[0].delta.content or ''\n",
    "        yield result"
   ]
  },
  {
   "cell_type": "code",
   "execution_count": 7,
   "id": "e704457f-11e9-4c89-807c-f69fb9b45fbb",
   "metadata": {},
   "outputs": [
    {
     "name": "stdout",
     "output_type": "stream",
     "text": [
      "* Running on local URL:  http://127.0.0.1:7870\n",
      "\n",
      "To create a public link, set `share=True` in `launch()`.\n"
     ]
    },
    {
     "data": {
      "text/html": [
       "<div><iframe src=\"http://127.0.0.1:7870/\" width=\"100%\" height=\"500\" allow=\"autoplay; camera; microphone; clipboard-read; clipboard-write;\" frameborder=\"0\" allowfullscreen></iframe></div>"
      ],
      "text/plain": [
       "<IPython.core.display.HTML object>"
      ]
     },
     "metadata": {},
     "output_type": "display_data"
    },
    {
     "data": {
      "text/plain": []
     },
     "execution_count": 7,
     "metadata": {},
     "output_type": "execute_result"
    }
   ],
   "source": [
    "gr.ChatInterface(fn=chat2, type='messages').launch()"
   ]
  },
  {
   "cell_type": "code",
   "execution_count": null,
   "id": "75f820d1-5520-4f8a-8bcc-37f5c51df050",
   "metadata": {},
   "outputs": [],
   "source": []
  }
 ],
 "metadata": {
  "kernelspec": {
   "display_name": "Python 3 (ipykernel)",
   "language": "python",
   "name": "python3"
  },
  "language_info": {
   "codemirror_mode": {
    "name": "ipython",
    "version": 3
   },
   "file_extension": ".py",
   "mimetype": "text/x-python",
   "name": "python",
   "nbconvert_exporter": "python",
   "pygments_lexer": "ipython3",
   "version": "3.12.7"
  }
 },
 "nbformat": 4,
 "nbformat_minor": 5
}
