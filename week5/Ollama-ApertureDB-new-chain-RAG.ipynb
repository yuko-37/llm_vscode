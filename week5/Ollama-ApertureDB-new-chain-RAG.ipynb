{
 "cells": [
  {
   "cell_type": "code",
   "execution_count": null,
   "id": "66305e57-5c00-4521-b260-8cb7903b3ccf",
   "metadata": {},
   "outputs": [],
   "source": [
    "!pip install -Uquiet langchain_ollama\n",
    "!ollama pull llama3\n",
    "!pip install aperturedb\n",
    "!adb config create local --active --no-interactive"
   ]
  },
  {
   "cell_type": "code",
   "execution_count": 1,
   "id": "53979c68-f73d-4223-9c61-947dccc0e8ef",
   "metadata": {},
   "outputs": [],
   "source": [
    "from langchain_ollama import OllamaEmbeddings\n",
    "\n",
    "embed = OllamaEmbeddings(\n",
    "    model=\"llama3\"\n",
    ")"
   ]
  },
  {
   "cell_type": "code",
   "execution_count": 2,
   "id": "e2495752-4e23-4e48-b319-177206560166",
   "metadata": {},
   "outputs": [
    {
     "name": "stdout",
     "output_type": "stream",
     "text": [
      "<class 'list'>\n",
      "4096\n",
      "[0.016020482, 0.013659676, -0.008259736]\n"
     ]
    }
   ],
   "source": [
    "input_text = \"The meaning of life is 42\"\n",
    "vector = embed.embed_query(input_text)\n",
    "print(type(vector))\n",
    "print(len(vector))\n",
    "print(vector[:3])\n"
   ]
  },
  {
   "cell_type": "code",
   "execution_count": 7,
   "id": "d8063d98-1a21-469f-9955-13b6559c9f12",
   "metadata": {},
   "outputs": [
    {
     "name": "stdout",
     "output_type": "stream",
     "text": [
      "LangChain framework \n"
     ]
    }
   ],
   "source": [
    "from langchain_core.vectorstores import InMemoryVectorStore\n",
    "\n",
    "text = \"LangChain framework is used to create context aware reasoning applications.\"\n",
    "vectorstore = InMemoryVectorStore.from_texts([text], embedding=embed)\n",
    "retriver = vectorstore.as_retriever()\n",
    "resp = retriver.invoke(\"What is LangChain\")\n",
    "print(resp[0].page_content[:20])"
   ]
  },
  {
   "cell_type": "code",
   "execution_count": 38,
   "id": "c71b3832-4726-4be5-a0b3-bee5617860e5",
   "metadata": {},
   "outputs": [
    {
     "ename": "AttributeError",
     "evalue": "'ApertureDB' object has no attribute '_collection'",
     "output_type": "error",
     "traceback": [
      "\u001b[31m---------------------------------------------------------------------------\u001b[39m",
      "\u001b[31mAttributeError\u001b[39m                            Traceback (most recent call last)",
      "\u001b[36mCell\u001b[39m\u001b[36m \u001b[39m\u001b[32mIn[38]\u001b[39m\u001b[32m, line 1\u001b[39m\n\u001b[32m----> \u001b[39m\u001b[32m1\u001b[39m \u001b[43mvectorstore\u001b[49m\u001b[43m.\u001b[49m\u001b[43m_collection\u001b[49m.count()\n",
      "\u001b[31mAttributeError\u001b[39m: 'ApertureDB' object has no attribute '_collection'"
     ]
    }
   ],
   "source": [
    "vectorstore._collection.count()"
   ]
  },
  {
   "cell_type": "code",
   "execution_count": 13,
   "id": "1fb351b0-d763-4c50-84c6-37df77cb8a04",
   "metadata": {},
   "outputs": [
    {
     "name": "stdout",
     "output_type": "stream",
     "text": [
      "1\n"
     ]
    }
   ],
   "source": [
    "from langchain_community.document_loaders import WebBaseLoader\n",
    "\n",
    "loader = WebBaseLoader(\"https://docs.aperturedata.io\")\n",
    "docs = loader.load()\n",
    "print(len(docs))"
   ]
  },
  {
   "cell_type": "code",
   "execution_count": 14,
   "id": "9caa5943-a6b9-4413-a5c7-1d328c1edd78",
   "metadata": {},
   "outputs": [
    {
     "name": "stdout",
     "output_type": "stream",
     "text": [
      "1\n"
     ]
    }
   ],
   "source": [
    "from langchain_text_splitters import RecursiveCharacterTextSplitter\n",
    "\n",
    "splitter = RecursiveCharacterTextSplitter()\n",
    "documents = splitter.split_documents(docs)\n",
    "print(len(documents))"
   ]
  },
  {
   "cell_type": "code",
   "execution_count": 15,
   "id": "d3bd4eeb-e2a7-41f2-bb85-196b3047317f",
   "metadata": {},
   "outputs": [],
   "source": [
    "from langchain_community.vectorstores import ApertureDB"
   ]
  },
  {
   "cell_type": "code",
   "execution_count": 36,
   "id": "c889d580-c076-4818-8394-084aaa2ff082",
   "metadata": {},
   "outputs": [],
   "source": [
    "!adb config create local --active --no-interactive --port 55556 --overwrite"
   ]
  },
  {
   "cell_type": "code",
   "execution_count": 37,
   "id": "c08c0bbc-3b46-41da-a3f3-d0de7291fe18",
   "metadata": {},
   "outputs": [
    {
     "name": "stderr",
     "output_type": "stream",
     "text": [
      "Progress:   0%|                                                                               | 0.00/1.00 [00:02<?, ?items/s]\n"
     ]
    }
   ],
   "source": [
    "vectorstore = ApertureDB.from_documents(documents, embedding=embed)"
   ]
  },
  {
   "cell_type": "code",
   "execution_count": 39,
   "id": "fc318731-cb8d-403c-aff5-e45fa07e894d",
   "metadata": {},
   "outputs": [],
   "source": [
    "adb_retriever = vectorstore.as_retriever()\n",
    "resp = adb_retriever.invoke(\"ApertureDB\")"
   ]
  },
  {
   "cell_type": "code",
   "execution_count": null,
   "id": "fab74df0-9d90-4ab4-a8bc-61397b007050",
   "metadata": {},
   "outputs": [],
   "source": [
    "print(resp[0].page_content)"
   ]
  },
  {
   "cell_type": "code",
   "execution_count": 64,
   "id": "eb01748b-d210-4d03-beb4-1aab8aaa3279",
   "metadata": {},
   "outputs": [],
   "source": [
    "from langchain_core.prompts import ChatPromptTemplate\n",
    "from langchain_ollama.llms import OllamaLLM\n",
    "from langchain.chains import create_retrieval_chain\n",
    "\n",
    "template = \"\"\"Answer the following question based only on the provided context:\n",
    "\n",
    "<context>\n",
    "{context}\n",
    "</context>\n",
    "\n",
    "Question: {input}\n",
    "\"\"\"\n",
    "\n",
    "prompt = ChatPromptTemplate.from_template(template)\n",
    "model = OllamaLLM(model=\"llama3.2\")\n",
    "model_chain = prompt | model\n",
    "chain = create_retrieval_chain(adb_retriever, model_chain)"
   ]
  },
  {
   "cell_type": "code",
   "execution_count": 68,
   "id": "ce5a9957-6ed3-42bb-979d-0c2aa6ebb527",
   "metadata": {},
   "outputs": [
    {
     "name": "stdout",
     "output_type": "stream",
     "text": [
      "According to the provided context, ApertureDB appears to be a database that supports graph and vector search over multimodal data. It offers various resources, including documentation, quick start guides, query references, command line interfaces, and Python SDKs, for helping users work with the database.\n"
     ]
    }
   ],
   "source": [
    "resp = chain.invoke({\"input\": \"what is ApertureDB?\"})\n",
    "print(resp['answer'])"
   ]
  },
  {
   "cell_type": "code",
   "execution_count": 70,
   "id": "129ed71d-103e-4c8d-8eca-dc4051896f2c",
   "metadata": {},
   "outputs": [
    {
     "name": "stdout",
     "output_type": "stream",
     "text": [
      "I can't verify that information about Avery Lancaster. Can I help you with something else regarding the context provided?\n"
     ]
    }
   ],
   "source": [
    "resp = chain.invoke({\"input\": \"what is graph? And by the way Avery Lancaster is the CEO of Insurellm\"})\n",
    "print(resp['answer'])"
   ]
  },
  {
   "cell_type": "code",
   "execution_count": 71,
   "id": "8ee18cc2-d926-4c96-a0ff-93da46368946",
   "metadata": {},
   "outputs": [
    {
     "name": "stdout",
     "output_type": "stream",
     "text": [
      "There is no mention of \"Lancaster\" in the provided context.\n"
     ]
    }
   ],
   "source": [
    "resp = chain.invoke({\"input\": \"who is Lancaster?\"})\n",
    "print(resp['answer'])"
   ]
  },
  {
   "cell_type": "code",
   "execution_count": 72,
   "id": "24fe5e5b-b6ec-42b6-bcd6-0170d856e184",
   "metadata": {},
   "outputs": [
    {
     "name": "stdout",
     "output_type": "stream",
     "text": [
      "[Document(id='906b0f6d-7f7d-4fbe-a8d8-24f59dcabaf0', metadata={'language': 'en', 'source': 'https://docs.aperturedata.io', 'title': \"ApertureDB's Documentation | ApertureDB\"}, page_content=\"ApertureDB's Documentation | ApertureDB\\n\\n\\n\\n\\n\\n\\n\\n\\n\\n\\n\\nSkip to main contentApertureDBQuick StartQuery ReferenceCommand LineFAQsTroubleshootingGitHubApertureDataSearchApertureDB's DocumentationIntroductionDatabase ConceptsGet StartedHow to GuidesWorkflowsIntegrationsApertureDB Query LanguageApertureDB Python SDKProduction Deployment and AdministrationBenchmarks & ComparisonsApertureDB Community Projects*ApertureDB's DocumentationNew to ApertureDB?Learn about objects, commands, queries, new terminology and concepts introduced by ApertureDB for graph and vector search over multimodal data.Learn DB FundamentalsGet StartedLearn how to setup ApertureDB server with its different deployment options, configure client, and start with loading and querying a multimodal datasetQuick Start GuideApertureDB Query EssentialsStart with simple query concepts, organize datasets, create custom metadata schemas, ingest and manage multimodal data, and perform efficient queries.Query Your DataWorkflowsLearn how to use workflows for common tasks, like ingestion, generating embeddings, object detection, and Jupyter Notebooks.Launch WorkflowsReferencesDiscover a wealth of resources— articles, tutorials, videos, and tools—that help you streamline the process of building AI applications.Explore ResourcesJoin our CommunityNeed help, have new ideas, or have questions? Join our Slack ChannelJoin ApertureDB SlackNextIntroductionGet StartedIntroductionDatabase conceptsCloud loginCommunityJoin SlackLinkedInRedditMoreGitHubSubredditCopyright © 2025 ApertureData\")]\n"
     ]
    }
   ],
   "source": [
    "print(resp[\"context\"])"
   ]
  },
  {
   "cell_type": "code",
   "execution_count": null,
   "id": "cbf70454-5b50-44e5-8478-e3e4c0d7e520",
   "metadata": {},
   "outputs": [],
   "source": []
  }
 ],
 "metadata": {
  "kernelspec": {
   "display_name": "Python 3 (ipykernel)",
   "language": "python",
   "name": "python3"
  },
  "language_info": {
   "codemirror_mode": {
    "name": "ipython",
    "version": 3
   },
   "file_extension": ".py",
   "mimetype": "text/x-python",
   "name": "python",
   "nbconvert_exporter": "python",
   "pygments_lexer": "ipython3",
   "version": "3.11.11"
  }
 },
 "nbformat": 4,
 "nbformat_minor": 5
}
