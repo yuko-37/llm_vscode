{
 "cells": [
  {
   "cell_type": "code",
   "execution_count": 33,
   "id": "186c0831-360c-4d9d-8f65-13644dde3718",
   "metadata": {},
   "outputs": [],
   "source": [
    "import re\n",
    "import shutil\n",
    "import matplotlib as mt\n",
    "import numpy as np\n",
    "from pathlib import Path\n",
    "from langchain_community.document_loaders import DirectoryLoader, PyPDFLoader, UnstructuredEPubLoader\n",
    "from langchain_text_splitters import RecursiveCharacterTextSplitter\n",
    "from langchain_openai import OpenAIEmbeddings, ChatOpenAI\n",
    "from langchain_chroma import Chroma\n",
    "from dotenv import load_dotenv\n",
    "from sklearn.manifold import TSNE\n",
    "from plotly import graph_objects as go\n",
    "from langgraph.graph import StateGraph, MessagesState, END\n",
    "from langchain_core.tools import tool\n",
    "from langchain_core.messages import SystemMessage\n",
    "from langgraph.prebuilt import ToolNode, tools_condition\n",
    "from langgraph.checkpoint.memory import MemorySaver\n",
    "from IPython.display import Image, display"
   ]
  },
  {
   "cell_type": "code",
   "execution_count": 2,
   "id": "95f7459f-c9e8-4850-a520-e34993252f03",
   "metadata": {},
   "outputs": [
    {
     "data": {
      "text/plain": [
       "True"
      ]
     },
     "execution_count": 2,
     "metadata": {},
     "output_type": "execute_result"
    }
   ],
   "source": [
    "load_dotenv()"
   ]
  },
  {
   "cell_type": "code",
   "execution_count": 3,
   "id": "2ace1eff-5d31-47c0-8013-46d21f176ea2",
   "metadata": {},
   "outputs": [
    {
     "name": "stdout",
     "output_type": "stream",
     "text": [
      "Loaded 341 pdf docs.\n",
      "Loaded 3 epub docs.\n",
      "Found 341\\341 authors: {'Экхарт Толле', 'Dale Carnegie'}\n",
      "Found 3\\3 authors: {'Goulston', 'Экхарт Толле', 'Branden', 'Grin', 'Dale Carnegie'}\n",
      "From all 344 documents 4279 chunks created.\n",
      "Found 4279\\4279 authors: {'Goulston', 'Экхарт Толле', 'Branden', 'Grin', 'Dale Carnegie'}\n",
      "Open persistent vectorstore library_db. Found 0 documents.\n",
      "Added 4279 documents.\n"
     ]
    }
   ],
   "source": [
    "folder = Path(\"Library\")\n",
    "loader = DirectoryLoader(folder, glob=\"*.pdf\", loader_cls=PyPDFLoader)\n",
    "pdf_docs = loader.load()\n",
    "print(f\"Loaded {len(pdf_docs)} pdf docs.\")\n",
    "\n",
    "loader = DirectoryLoader(folder, glob=\"*.epub\", loader_cls=UnstructuredEPubLoader)\n",
    "epub_docs = loader.load()\n",
    "print(f\"Loaded {len(epub_docs)} epub docs.\")\n",
    "\n",
    "authors = set()\n",
    "author_counter = 0\n",
    "for pdf in pdf_docs:\n",
    "    author = pdf.metadata['author']\n",
    "    authors.add(author)\n",
    "    author_counter += 1\n",
    "print(f\"Found {author_counter}\\{len(pdf_docs)} authors: {authors}\")\n",
    "\n",
    "epub_author_pattern = re.compile(r\"Library/(.+)\\..+\\.epub\")\n",
    "author_counter = 0\n",
    "for epub in epub_docs:\n",
    "    source = epub.metadata['source']\n",
    "    author_match = epub_author_pattern.match(source)\n",
    "    if author_match:\n",
    "        author = author_match[1]\n",
    "        authors.add(author)\n",
    "        epub.metadata['author'] = author\n",
    "    author_counter += 1\n",
    "print(f\"Found {author_counter}\\{len(epub_docs)} authors: {authors}\")\n",
    "\n",
    "documents = pdf_docs + epub_docs\n",
    "splitter = RecursiveCharacterTextSplitter(chunk_size=1000, chunk_overlap=200)\n",
    "chunks = splitter.split_documents(documents)\n",
    "print(f\"From all {len(documents)} documents {len(chunks)} chunks created.\")\n",
    "\n",
    "counter = 0\n",
    "authors = set()\n",
    "for c in chunks:\n",
    "    author = c.metadata['author']\n",
    "    authors.add(author)\n",
    "    counter += 1\n",
    "print(f\"Found {counter}\\{len(chunks)} authors: {authors}\")\n",
    "\n",
    "embeddings = OpenAIEmbeddings()\n",
    "db_name = 'library_db'\n",
    "db_path = Path(db_name)\n",
    "\n",
    "if db_path.exists():    \n",
    "    shutil.rmtree(db_path, ignore_errors=True)\n",
    "\n",
    "store = Chroma(persist_directory=db_name, embedding_function=embeddings)\n",
    "total_docs = store._collection.count()\n",
    "print(f\"Open persistent vectorstore {db_name}. Found {total_docs} documents.\")\n",
    "\n",
    "\n",
    "def get_batches(chunks, batch_size=512):\n",
    "    for i in range(0, len(chunks), batch_size):\n",
    "        yield chunks[i:i+batch_size]\n",
    "\n",
    "if total_docs == 0:\n",
    "    for batch in get_batches(chunks):\n",
    "        store.add_documents(batch)\n",
    "        \n",
    "    total_docs = store._collection.count()\n",
    "    print(f\"Added {total_docs} documents.\")"
   ]
  },
  {
   "cell_type": "code",
   "execution_count": null,
   "id": "f322f1ea-4c02-44d8-ae6e-9da289ff56ff",
   "metadata": {},
   "outputs": [],
   "source": [
    "# Optional Visualization\n",
    "data = store._collection.get(include=['embeddings', 'documents', 'metadatas'])\n",
    "vectors = np.array(data['embeddings'])\n",
    "\n",
    "tsne = TSNE(n_components=2, random_state=37)\n",
    "reduced_vectors = tsne.fit_transform(vectors)\n",
    "\n",
    "authors = [metadata['author'] for metadata in data[\"metadatas\"]]\n",
    "author_list = list(set(authors))\n",
    "cmap = mt.colormaps.get_cmap(\"tab10\")\n",
    "color_list = [mt.colors.to_hex(cmap(i)) for i in range(len(author_list))]\n",
    "colors = [color_list[author_list.index(author)] for author in authors]\n",
    "texts = [f\"Author: {author}<br>Text: {doc_text[:100]}\" for author, doc_text in zip(authors, data['documents'])]\n",
    "\n",
    "fig = go.Figure(\n",
    "    data=go.Scatter(\n",
    "        x=reduced_vectors[:,0],\n",
    "        y=reduced_vectors[:,1],\n",
    "        mode=\"markers\",\n",
    "        marker=dict(size=5, color=colors, opacity=0.8),\n",
    "        text=texts,\n",
    "        hoverinfo='text'\n",
    "    ),\n",
    "    layout = go.Layout(\n",
    "        title=\"Library Vector Store Visualization\",\n",
    "        width=800,\n",
    "        height=600\n",
    "    ),\n",
    ")\n",
    "\n",
    "fig.show()"
   ]
  },
  {
   "cell_type": "code",
   "execution_count": 13,
   "id": "d6129fae-fa52-4d68-835f-743c27bffbb4",
   "metadata": {},
   "outputs": [],
   "source": [
    "llm = ChatOpenAI(model=\"gpt-5-mini\")"
   ]
  },
  {
   "cell_type": "code",
   "execution_count": 91,
   "id": "851d6d5e-322a-4010-baa5-5c5d33a6c254",
   "metadata": {},
   "outputs": [
    {
     "data": {
      "image/png": "[encoded data removed]",
      "text/plain": [
       "<IPython.core.display.Image object>"
      ]
     },
     "metadata": {},
     "output_type": "display_data"
    }
   ],
   "source": [
    "@tool(response_format=\"content_and_artifact\")\n",
    "def retrieve(query: str):\n",
    "    \"\"\"Retrieve information related to a query.\"\"\"\n",
    "    retrieved_docs = store.similarity_search(query, k=5)\n",
    "    content = \"\\n\\n\".join(f\"Metadata: {doc.metadata}, Content: {doc.page_content}\" for doc in retrieved_docs)\n",
    "    return content, retrieved_docs\n",
    "\n",
    "\n",
    "def analyze_query(state: MessagesState):\n",
    "    system_prompt = (\n",
    "        \"You are an assistant that helps to create a query for RAG from conversation.\"\n",
    "        \"Do not answer the question, just transform it to be concise and appropriate for RAG search.\"\n",
    "    )\n",
    "    prompt = [SystemMessage(system_prompt)] + state['messages']\n",
    "    resp = llm.invoke(prompt)\n",
    "    return {\"messages\": [resp]}\n",
    "\n",
    "def retrieve_data(state: MessagesState):\n",
    "    query = state['messages'][-1].content\n",
    "    retrieved_docs = store.similarity_search(query, k=5)\n",
    "    content = \"\\n\\n\".join(f\"Metadata: {doc.metadata}, Content: {doc.page_content}\" for doc in retrieved_docs)\n",
    "    \n",
    "    print(\"-\"*37)\n",
    "    log = \"\\n\".join(set(f\"Author: {doc.metadata['author']}, Book: {doc.metadata['source']}\" for doc in retrieved_docs))\n",
    "    print(log)\n",
    "    print(\"-\"*37)\n",
    "    \n",
    "    messages = state['messages'][:-1] + [{'role': 'ai', 'content': content}]\n",
    "    return {\"messages\": messages}\n",
    "\n",
    "\n",
    "def generate(state: MessagesState):\n",
    "    tool_message = state['messages'][::-1]\n",
    "\n",
    "    system_prompt = (\n",
    "        \"You are an assistant for question-answering tasks. \"\n",
    "        \"Use only the following pieces of retrieved context to answer \"\n",
    "        \"the question. Don't make up anything. If you don't know the answer, say that you \"\n",
    "        \"don't know. Use ten sentences maximum and keep the answer concise .\"\n",
    "        \"Tell the author and the source of the answer separated by new line like \"\n",
    "        \"[Источники: \\n\"\n",
    "            \"\\tАвтор: author, Книга: source\\n\"\n",
    "            \"\\tАвтор: author, Книга: source]\"\n",
    "        \"\\n\\n\"\n",
    "        f\"{tool_message}\"\n",
    "    )\n",
    "\n",
    "    conversation_messages = [m for m in state['messages'] \n",
    "                            if m.type in ('human', 'system') or (m.type == 'ai' and not m.tool_calls)]\n",
    "\n",
    "    prompt = [SystemMessage(system_prompt)] + conversation_messages\n",
    "    \n",
    "    resp = llm.invoke(prompt)\n",
    "    return {'messages': [resp]}\n",
    "\n",
    "graph_builder = StateGraph(MessagesState).add_sequence([analyze_query, retrieve_data, generate])\n",
    "# graph_builder.add_node(analyze_query)\n",
    "# graph_builder.add_node(retrieve_data)\n",
    "# graph_builder.add_node(generate)\n",
    "\n",
    "graph_builder.set_entry_point(\"analyze_query\")\n",
    "# graph_builder.add_edge(\"query_or_respond\", \"tools\")\n",
    "# graph_builder.add_conditional_edges(\n",
    "#     \"query_or_respond\",\n",
    "#     tools_condition,\n",
    "#     {END: END, \"tools\": \"tools\"}\n",
    "# )\n",
    "# graph_builder.add_edge(\"tools\", \"generate\")\n",
    "# graph_builder.add_edge(\"generate\", END)\n",
    "\n",
    "\n",
    "memory = MemorySaver()\n",
    "graph = graph_builder.compile(checkpointer=memory)\n",
    "config = {\"configurable\": {\"thread_id\": \"123\"}}\n",
    "\n",
    "display(Image(graph.get_graph().draw_mermaid_png()))"
   ]
  },
  {
   "cell_type": "code",
   "execution_count": 92,
   "id": "a871b648-a63e-45c0-bc9b-a65ea0677579",
   "metadata": {},
   "outputs": [
    {
     "name": "stdout",
     "output_type": "stream",
     "text": [
      "-------------------------------------\n",
      "Author: Branden, Book: Library/Branden.Shest_Stolpov_Samoocenki.epub\n",
      "Author: Goulston, Book: Library/Goulston.Ya_Slyishu_Vas_Naskvoz.epub\n",
      "-------------------------------------\n",
      "Я не могу ответить на вопрос «Что такое трансформеры?» на основании предоставенных фрагментов — в них нет определения трансформеров ни в смысле нейросетей, ни в электрике, ни как франшизы. Уточните, какой смысл вас интересует, и я постараюсь найти определение.\n",
      "\n",
      "[Источники: \n",
      "\tАвтор: Goulston, Книга: Library/Goulston.Ya_Slyishu_Vas_Naskvoz.epub\n",
      "\tАвтор: Branden, Книга: Library/Branden.Shest_Stolpov_Samoocenki.epub]\n"
     ]
    }
   ],
   "source": [
    "input = \"Что такое трансформеры?\"\n",
    "resp = graph.invoke({\"messages\": [{'role': 'user', 'content': input}]}, config=config)\n",
    "# print(resp['messages'][-1].pretty_print())\n",
    "print(resp['messages'][-1].content)\n",
    "\n",
    "# for m in resp['messages']:\n",
    "#     m.pretty_print()\n",
    "\n",
    "# for step in graph.stream(\n",
    "#     {\"messages\": [{'role': 'user', 'content': input}]},\n",
    "#     stream_mode=\"values\",\n",
    "#     config=config\n",
    "# ):\n",
    "#     step[\"messages\"][-1].pretty_print()"
   ]
  },
  {
   "cell_type": "code",
   "execution_count": 93,
   "id": "325161df-88a2-4ab3-b326-744eff03b536",
   "metadata": {},
   "outputs": [
    {
     "name": "stdout",
     "output_type": "stream",
     "text": [
      "* Running on local URL:  http://127.0.0.1:7860\n",
      "* To create a public link, set `share=True` in `launch()`.\n"
     ]
    },
    {
     "data": {
      "text/html": [
       "<div><iframe src=\"http://127.0.0.1:7860/\" width=\"100%\" height=\"500\" allow=\"autoplay; camera; microphone; clipboard-read; clipboard-write;\" frameborder=\"0\" allowfullscreen></iframe></div>"
      ],
      "text/plain": [
       "<IPython.core.display.HTML object>"
      ]
     },
     "metadata": {},
     "output_type": "display_data"
    },
    {
     "data": {
      "text/plain": []
     },
     "execution_count": 93,
     "metadata": {},
     "output_type": "execute_result"
    },
    {
     "name": "stdout",
     "output_type": "stream",
     "text": [
      "-------------------------------------\n",
      "Author: Goulston, Book: Library/Goulston.Ya_Slyishu_Vas_Naskvoz.epub\n",
      "-------------------------------------\n",
      "-------------------------------------\n",
      "Author: Grin, Book: Library/Grin.48_Zakonov_Vlasti.epub\n",
      "Author: Goulston, Book: Library/Goulston.Ya_Slyishu_Vas_Naskvoz.epub\n",
      "Author: Branden, Book: Library/Branden.Shest_Stolpov_Samoocenki.epub\n",
      "-------------------------------------\n"
     ]
    }
   ],
   "source": [
    "import gradio as gr\n",
    "\n",
    "def chat(message, history):\n",
    "    resp = graph.invoke({\"messages\": [{'role': 'user', 'content': message}]}, config=config)\n",
    "    return resp['messages'][-1].content\n",
    "\n",
    "ui = gr.ChatInterface(fn=chat, type=\"messages\")\n",
    "ui.launch(inbrowser=True)"
   ]
  },
  {
   "cell_type": "code",
   "execution_count": null,
   "id": "6d5ff867-1f28-4187-b63a-b0c02ec04032",
   "metadata": {},
   "outputs": [],
   "source": []
  }
 ],
 "metadata": {
  "kernelspec": {
   "display_name": "Python 3 (ipykernel)",
   "language": "python",
   "name": "python3"
  },
  "language_info": {
   "codemirror_mode": {
    "name": "ipython",
    "version": 3
   },
   "file_extension": ".py",
   "mimetype": "text/x-python",
   "name": "python",
   "nbconvert_exporter": "python",
   "pygments_lexer": "ipython3",
   "version": "3.11.11"
  }
 },
 "nbformat": 4,
 "nbformat_minor": 5
}
