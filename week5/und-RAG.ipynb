{
 "cells": [
  {
   "cell_type": "code",
   "execution_count": 31,
   "id": "22aa2331-eb4a-4353-8544-e272a4ef19d1",
   "metadata": {},
   "outputs": [
    {
     "name": "stdout",
     "output_type": "stream",
     "text": [
      "sk-proj-\n"
     ]
    }
   ],
   "source": [
    "import os\n",
    "import gradio as gr\n",
    "\n",
    "from pathlib import Path\n",
    "from openai import OpenAI\n",
    "from dotenv import load_dotenv\n",
    "\n",
    "load_dotenv()\n",
    "openai_api_key = os.getenv(\"OPENAI_API_KEY\")\n",
    "print(openai_api_key[:8])\n",
    "gpt = OpenAI()\n",
    "\n",
    "context = {}\n",
    "\n",
    "employees = Path(\".\").glob(\"knowledge-base/employees/*.md\")\n",
    "for employee in employees:\n",
    "    name = employee.name.split(' ')[-1][:-3].lower()\n",
    "    with open(employee, \"r\", encoding=\"utf-8\") as f:\n",
    "        text = f.read()\n",
    "        context[name] = text\n",
    "\n",
    "products = Path(\".\").glob(\"knowledge-base/products/*.md\")\n",
    "for product in products:\n",
    "    name = product.name[:-3].lower()\n",
    "    with open(product, \"r\", encoding=\"utf-8\") as f:\n",
    "        text = f.read()\n",
    "        context[name] = text\n",
    "\n",
    "common_data = Path(\".\").glob(\"knowledge-base/company/*.md\")\n",
    "for data in common_data:\n",
    "    text = ''\n",
    "    with open(data, \"r\", encoding=\"utf-8\") as f:\n",
    "        text += f.read()\n",
    "        context[\"insurellm\"] = text\n",
    "    \n",
    "                        \n"
   ]
  },
  {
   "cell_type": "code",
   "execution_count": 32,
   "id": "c6dd4d61-4600-4d06-9513-f22097823d25",
   "metadata": {},
   "outputs": [
    {
     "data": {
      "text/plain": [
       "dict_keys(['chen', 'spencer', 'tran', 'blake', 'lancaster', 'thompson', 'greene', 'thomson', 'trenton', 'harper', 'bishop', 'carter', 'rellm', 'markellm', 'homellm', 'carllm', 'insurellm'])"
      ]
     },
     "execution_count": 32,
     "metadata": {},
     "output_type": "execute_result"
    }
   ],
   "source": [
    "context.keys()"
   ]
  },
  {
   "cell_type": "code",
   "execution_count": 38,
   "id": "0a3916bd-9772-4176-a202-cf2aed4cd1a1",
   "metadata": {
    "scrolled": true
   },
   "outputs": [
    {
     "name": "stdout",
     "output_type": "stream",
     "text": [
      "* Running on local URL:  http://127.0.0.1:7870\n",
      "\n",
      "To create a public link, set `share=True` in `launch()`.\n"
     ]
    },
    {
     "data": {
      "text/html": [
       "<div><iframe src=\"http://127.0.0.1:7870/\" width=\"100%\" height=\"500\" allow=\"autoplay; camera; microphone; clipboard-read; clipboard-write;\" frameborder=\"0\" allowfullscreen></iframe></div>"
      ],
      "text/plain": [
       "<IPython.core.display.HTML object>"
      ]
     },
     "metadata": {},
     "output_type": "display_data"
    },
    {
     "data": {
      "text/plain": []
     },
     "execution_count": 38,
     "metadata": {},
     "output_type": "execute_result"
    }
   ],
   "source": [
    "systemPrompt = (\"You are an expert in answering accurate questions about Insurellm, The Insurance Tech Company.\"\n",
    "    \"Give brief accurate answers. If you don't know the answer, say so.\"\n",
    "    \"Do not make anything up if you haven't been provided with relevant content.\"               \n",
    "    )\n",
    "\n",
    "def add_relevant_content(message):\n",
    "    content = []\n",
    "    for key, value in context.items():\n",
    "        lowered = message.lower()\n",
    "        if key in lowered:\n",
    "            content.append(value)\n",
    "\n",
    "    if content:\n",
    "        message += f\"\\nHere is content that could be relevant for answering the question:\\n\"\n",
    "        for data in content:\n",
    "            message += data+\"\\n\"\n",
    "        \n",
    "    return message\n",
    "\n",
    "\n",
    "def chat(message, history):\n",
    "    messages = [{\"role\": \"system\", \"content\": systemPrompt}]\n",
    "    messages += [{\"role\": it[\"role\"], \"content\": it[\"content\"]} for it in history]\n",
    "    message = add_relevant_content(message)\n",
    "    messages += [{\"role\": \"user\", \"content\": message}]\n",
    "\n",
    "    prompt_messages = [\n",
    "        {\"role\": \"system\", \"content\": systemPrompt},\n",
    "        {\"role\": \"user\", \"content\": message}\n",
    "    ]\n",
    "    \n",
    "    stream = gpt.chat.completions.create(\n",
    "        model=\"gpt-5-mini\",\n",
    "        messages=messages,\n",
    "        stream=True\n",
    "    )\n",
    "\n",
    "    resp = ''\n",
    "    for chunk in stream:\n",
    "        text = chunk.choices[0].delta.content or ''\n",
    "        resp += text\n",
    "        yield resp\n",
    "        \n",
    "\n",
    "\n",
    "gr.ChatInterface(fn=chat, type=\"messages\").launch()"
   ]
  },
  {
   "cell_type": "code",
   "execution_count": null,
   "id": "77a07338-cfc3-48ec-b84b-b5c1577a2d21",
   "metadata": {},
   "outputs": [],
   "source": []
  }
 ],
 "metadata": {
  "kernelspec": {
   "display_name": "Python 3 (ipykernel)",
   "language": "python",
   "name": "python3"
  },
  "language_info": {
   "codemirror_mode": {
    "name": "ipython",
    "version": 3
   },
   "file_extension": ".py",
   "mimetype": "text/x-python",
   "name": "python",
   "nbconvert_exporter": "python",
   "pygments_lexer": "ipython3",
   "version": "3.11.11"
  }
 },
 "nbformat": 4,
 "nbformat_minor": 5
}
