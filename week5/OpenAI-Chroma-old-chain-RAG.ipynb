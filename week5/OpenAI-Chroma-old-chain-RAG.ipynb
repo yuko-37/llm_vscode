{
 "cells": [
  {
   "cell_type": "code",
   "execution_count": 1,
   "id": "c5cd1813-4356-4e1f-84e2-94b8610dae49",
   "metadata": {},
   "outputs": [],
   "source": [
    "import gradio as gr\n",
    "\n",
    "from pathlib import Path\n",
    "from dotenv import load_dotenv\n",
    "from langchain.document_loaders import DirectoryLoader, TextLoader\n",
    "from langchain.text_splitter import CharacterTextSplitter\n",
    "from langchain_openai import OpenAIEmbeddings, ChatOpenAI\n",
    "from langchain_chroma import Chroma\n",
    "from langchain.memory import ConversationBufferMemory\n",
    "from langchain.chains import ConversationalRetrievalChain"
   ]
  },
  {
   "cell_type": "code",
   "execution_count": 2,
   "id": "accdde33-bbfa-4f23-9c9e-dc7408a95b67",
   "metadata": {},
   "outputs": [
    {
     "data": {
      "text/plain": [
       "True"
      ]
     },
     "execution_count": 2,
     "metadata": {},
     "output_type": "execute_result"
    }
   ],
   "source": [
    "load_dotenv()"
   ]
  },
  {
   "cell_type": "code",
   "execution_count": 3,
   "id": "937b76dc-5b9a-4bdc-bf9d-89c837747554",
   "metadata": {},
   "outputs": [
    {
     "name": "stderr",
     "output_type": "stream",
     "text": [
      "Created a chunk of size 1088, which is longer than the specified 1000\n"
     ]
    },
    {
     "name": "stdout",
     "output_type": "stream",
     "text": [
      "31\n",
      "123\n"
     ]
    }
   ],
   "source": [
    "documents = []\n",
    "folders = Path(\".\").glob(\"knowledge-base/*\")\n",
    "\n",
    "for folder in folders:\n",
    "    if folder.is_dir():\n",
    "        loader = DirectoryLoader(folder, glob=\"*.md\", loader_cls=TextLoader)\n",
    "        docs = loader.load()\n",
    "        documents += docs\n",
    "\n",
    "print(len(documents))\n",
    "\n",
    "splitter = CharacterTextSplitter(chunk_size=1000, chunk_overlap=200)\n",
    "chunks = splitter.split_documents(documents)\n",
    "\n",
    "print(len(chunks))"
   ]
  },
  {
   "cell_type": "code",
   "execution_count": 4,
   "id": "9ef7dd6b-4a53-41b4-bc63-c1905cc81191",
   "metadata": {},
   "outputs": [
    {
     "name": "stdout",
     "output_type": "stream",
     "text": [
      "Vector store created with 123 documents.\n"
     ]
    }
   ],
   "source": [
    "db_name = \"vector_db\"\n",
    "db_path = Path(db_name)\n",
    "embeddings = OpenAIEmbeddings()\n",
    "\n",
    "if db_path.exists():\n",
    "    Chroma(persist_directory=db_name, embedding_function=embeddings).delete_collection()\n",
    "\n",
    "store = Chroma.from_documents(chunks, persist_directory=db_name, embedding=embeddings)\n",
    "print(f\"Vector store created with {store._collection.count()} documents.\")"
   ]
  },
  {
   "cell_type": "code",
   "execution_count": 5,
   "id": "5511977d-c624-4d68-80cf-129a2aabb53a",
   "metadata": {},
   "outputs": [
    {
     "name": "stderr",
     "output_type": "stream",
     "text": [
      "/var/folders/ny/bjrptr9d4f9c3mmxj10zzcl40000gp/T/ipykernel_25824/636416671.py:4: LangChainDeprecationWarning: Please see the migration guide at: https://python.langchain.com/docs/versions/migrating_memory/\n",
      "  memory = ConversationBufferMemory(memory_key=\"chat_history\", return_messages=True)\n"
     ]
    }
   ],
   "source": [
    "# llm = ChatOpenAI(model_name=\"gpt-4o-mini\", temperature=0.7)\n",
    "llm = ChatOpenAI(model_name=\"gpt-5\")\n",
    "\n",
    "memory = ConversationBufferMemory(memory_key=\"chat_history\", return_messages=True)\n",
    "\n",
    "retriever = store.as_retriever()\n",
    "\n",
    "# create RAG-pipeline\n",
    "conversation_chain = ConversationalRetrievalChain.from_llm(llm=llm, retriever=retriever, memory=memory)\n"
   ]
  },
  {
   "cell_type": "code",
   "execution_count": 6,
   "id": "26f858fe-a312-477a-a2a6-c9fa05506444",
   "metadata": {},
   "outputs": [
    {
     "name": "stdout",
     "output_type": "stream",
     "text": [
      "Insurellm is an innovative insurance technology company founded in 2015 that serves 300+ clients worldwide with four software products—Carllm, Homellm, Rellm, and Marketllm—powering auto, home, and reinsurance solutions and a consumer marketplace.\n"
     ]
    }
   ],
   "source": [
    "test_query = \"What is insurellm? Respond in one sentence.\"\n",
    "resp = conversation_chain.invoke({\"question\":test_query})\n",
    "print(resp[\"answer\"])"
   ]
  },
  {
   "cell_type": "code",
   "execution_count": null,
   "id": "224d9370-4d3f-4df1-9f4c-4e5edfa0ae7b",
   "metadata": {},
   "outputs": [],
   "source": [
    "def chat(message, history):\n",
    "    resp = conversation_chain.invoke({\"question\": message})\n",
    "    return resp[\"answer\"]   \n",
    "\n",
    "ui = gr.ChatInterface(fn=chat, type=\"messages\", title=\"AI chat powered by RAG\")\n",
    "ui.launch(inbrowser=True)"
   ]
  },
  {
   "cell_type": "code",
   "execution_count": null,
   "id": "08287b83-510f-42e0-a7ed-129447d2345a",
   "metadata": {},
   "outputs": [],
   "source": []
  }
 ],
 "metadata": {
  "kernelspec": {
   "display_name": "Python 3 (ipykernel)",
   "language": "python",
   "name": "python3"
  },
  "language_info": {
   "codemirror_mode": {
    "name": "ipython",
    "version": 3
   },
   "file_extension": ".py",
   "mimetype": "text/x-python",
   "name": "python",
   "nbconvert_exporter": "python",
   "pygments_lexer": "ipython3",
   "version": "3.11.11"
  }
 },
 "nbformat": 4,
 "nbformat_minor": 5
}
