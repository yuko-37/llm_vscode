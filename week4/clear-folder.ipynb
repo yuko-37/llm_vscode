{
 "cells": [
  {
   "cell_type": "code",
   "execution_count": 1,
   "id": "8b1b65e7-cf9f-4f18-81a0-a81b920d8ee7",
   "metadata": {},
   "outputs": [
    {
     "name": "stdout",
     "output_type": "stream",
     "text": [
      "done\n"
     ]
    }
   ],
   "source": [
    "import os\n",
    "\n",
    "filenames = ['claude_code', 'claude_hard', 'code', 'gpt_code', 'gpt_hard', 'code',\n",
    "             'SortMatrixByDiagonals.java', 'SortMatrixByDiagonals.class']\n",
    "def clear_dir(cpp=False):\n",
    "    for f in filenames:\n",
    "        try:\n",
    "            os.remove(f)\n",
    "        except Exception:\n",
    "            continue\n",
    "    if cpp:\n",
    "        for f in filenames:\n",
    "            try:\n",
    "                os.remove(f+'.cpp')\n",
    "            except Exception:\n",
    "                continue\n",
    "    print('done')\n",
    "\n",
    "clear_dir(cpp=True)"
   ]
  },
  {
   "cell_type": "code",
   "execution_count": null,
   "id": "c203de81-8d06-4a6f-83a1-12ab35171cf1",
   "metadata": {},
   "outputs": [],
   "source": []
  }
 ],
 "metadata": {
  "kernelspec": {
   "display_name": "Python 3 (ipykernel)",
   "language": "python",
   "name": "python3"
  },
  "language_info": {
   "codemirror_mode": {
    "name": "ipython",
    "version": 3
   },
   "file_extension": ".py",
   "mimetype": "text/x-python",
   "name": "python",
   "nbconvert_exporter": "python",
   "pygments_lexer": "ipython3",
   "version": "3.11.11"
  }
 },
 "nbformat": 4,
 "nbformat_minor": 5
}
