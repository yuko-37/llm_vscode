{
 "cells": [
  {
   "cell_type": "code",
   "execution_count": 9,
   "id": "8dd7f0c1-9ab3-4b46-9ae2-dd46e14b9c28",
   "metadata": {},
   "outputs": [
    {
     "name": "stdout",
     "output_type": "stream",
     "text": [
      "sk-ant-a\n",
      "\n",
      "claude-opus-4-1-20250805\n",
      "claude-opus-4-20250514\n",
      "claude-sonnet-4-20250514\n",
      "claude-3-7-sonnet-20250219\n",
      "claude-3-5-sonnet-20241022\n",
      "claude-3-5-haiku-20241022\n",
      "claude-3-5-sonnet-20240620\n",
      "claude-3-haiku-20240307\n",
      "claude-3-opus-20240229\n"
     ]
    }
   ],
   "source": [
    "import os\n",
    "from dotenv import load_dotenv\n",
    "from anthropic import Anthropic\n",
    "\n",
    "load_dotenv()\n",
    "anthropic_api_key = os.getenv('ANTHROPIC_API_KEY')\n",
    "print(anthropic_api_key[:8])\n",
    "print()\n",
    "\n",
    "anthropic_client = Anthropic()\n",
    "\n",
    "resp = anthropic_client.models.list(limit=20)\n",
    "for item in resp.data:\n",
    "    print(item.id)"
   ]
  },
  {
   "cell_type": "code",
   "execution_count": null,
   "id": "639fc666-d7f7-4a04-a3c5-70bcb39c7611",
   "metadata": {},
   "outputs": [],
   "source": []
  }
 ],
 "metadata": {
  "kernelspec": {
   "display_name": "Python 3 (ipykernel)",
   "language": "python",
   "name": "python3"
  },
  "language_info": {
   "codemirror_mode": {
    "name": "ipython",
    "version": 3
   },
   "file_extension": ".py",
   "mimetype": "text/x-python",
   "name": "python",
   "nbconvert_exporter": "python",
   "pygments_lexer": "ipython3",
   "version": "3.11.11"
  }
 },
 "nbformat": 4,
 "nbformat_minor": 5
}
