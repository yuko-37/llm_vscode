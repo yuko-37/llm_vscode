{
 "cells": [
  {
   "cell_type": "code",
   "execution_count": 24,
   "id": "172a371d-96f7-43ba-8047-075432e11e6a",
   "metadata": {},
   "outputs": [
    {
     "name": "stdout",
     "output_type": "stream",
     "text": [
      "openai api key is loaded: sk-proj-\n",
      "anthropic api key is loaded: sk-ant-a\n",
      "using gpt model 'gpt-4o-mini'...\n",
      "using claude model 'claude-3-haiku-20240307...'\n",
      "setting system prompt...\n"
     ]
    }
   ],
   "source": [
    "import os\n",
    "import openai\n",
    "import anthropic\n",
    "\n",
    "from dotenv import load_dotenv\n",
    "\n",
    "load_dotenv()\n",
    "openai_api_key = os.getenv('OPENAI_API_KEY')\n",
    "anthropic_api_key = os.getenv('ANTHROPIC_API_KEY')\n",
    "print(f\"openai api key is loaded: {openai_api_key[:8]}\")\n",
    "print(f\"anthropic api key is loaded: {anthropic_api_key[:8]}\")\n",
    "\n",
    "GPT_MODEL = 'gpt-4o-mini' # $0.15 $0.075 $0.60\n",
    "CLAUDE_MODEL = 'claude-3-haiku-20240307' # $0.25 / MTok\t$0.30 / MTok\t$0.50 / MTok\t$0.03 / MTok\t$1.25 / MTok\n",
    "print(f\"using gpt model '{GPT_MODEL}'...\")\n",
    "print(f\"using claude model '{CLAUDE_MODEL}...'\")\n",
    "\n",
    "SYS_PROMPT = \"\"\"\n",
    "You are a helpful assistant. Respond in Markdown.\n",
    "\"\"\"\n",
    "print(\"setting system prompt...\")\n",
    "\n",
    "gpt = openai.OpenAI()\n",
    "claude = anthropic.Anthropic()\n",
    "\n",
    "\n",
    "def stream_gpt(prompt):\n",
    "    messages = [\n",
    "        {'role': 'system', 'content': SYS_PROMPT},\n",
    "        {'role': 'user', 'content': prompt}\n",
    "    ]\n",
    "    stream = gpt.chat.completions.create(\n",
    "        model=GPT_MODEL,\n",
    "        messages=messages,\n",
    "        stream=True\n",
    "    )\n",
    "\n",
    "    resp = ''\n",
    "    for text in stream:\n",
    "        chunk = text.choices[0].delta.content or ''\n",
    "        resp += chunk\n",
    "\n",
    "    return resp\n",
    "\n",
    "\n",
    "def stream_claude(prompt):\n",
    "    messages = [\n",
    "        {'role': 'user', 'content': prompt}\n",
    "    ]\n",
    "\n",
    "    result = claude.messages.stream(\n",
    "        model=CLAUDE_MODEL,\n",
    "        max_tokens=2000,\n",
    "        system=SYS_PROMPT,\n",
    "        messages=messages\n",
    "    )\n",
    "\n",
    "    resp = ''\n",
    "    with result as stream:\n",
    "        for text in stream.text_stream:\n",
    "            resp += text\n",
    "        \n",
    "    return resp\n",
    "    "
   ]
  },
  {
   "cell_type": "code",
   "execution_count": 27,
   "id": "924464ed-c1e7-483c-95cb-11e0d2d2c373",
   "metadata": {},
   "outputs": [
    {
     "name": "stdout",
     "output_type": "stream",
     "text": [
      "GPT: Каждый новый день — это новая возможность изменить свою жизнь к лучшему.\n",
      "Claude: Каждый день - новая возможность для роста и развития.\n"
     ]
    }
   ],
   "source": [
    "prompt = 'Напиши хорошую жизнеутверждающую мысль. Напиши только мысль, без пояснений.'\n",
    "resp = stream_gpt(prompt)\n",
    "print(f\"GPT: {resp}\")\n",
    "resp = stream_claude(prompt)\n",
    "print(f\"Claude: {resp}\")"
   ]
  },
  {
   "cell_type": "code",
   "execution_count": null,
   "id": "ecca423e-3ebf-4e13-92f1-2625bcc329d6",
   "metadata": {},
   "outputs": [],
   "source": []
  }
 ],
 "metadata": {
  "kernelspec": {
   "display_name": "Python 3 (ipykernel)",
   "language": "python",
   "name": "python3"
  },
  "language_info": {
   "codemirror_mode": {
    "name": "ipython",
    "version": 3
   },
   "file_extension": ".py",
   "mimetype": "text/x-python",
   "name": "python",
   "nbconvert_exporter": "python",
   "pygments_lexer": "ipython3",
   "version": "3.11.11"
  }
 },
 "nbformat": 4,
 "nbformat_minor": 5
}
