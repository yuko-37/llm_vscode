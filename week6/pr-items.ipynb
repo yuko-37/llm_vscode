{
 "cells": [
  {
   "cell_type": "code",
   "execution_count": 221,
   "id": "1d95a9e0-2f49-4b30-a042-b5ecc2d08f4c",
   "metadata": {},
   "outputs": [],
   "source": [
    "import matplotlib.pyplot as plt\n",
    "import json\n",
    "import re\n",
    "\n",
    "from datasets import load_dataset\n",
    "from typing import Optional\n",
    "from transformers import AutoTokenizer\n",
    "\n",
    "%matplotlib inline"
   ]
  },
  {
   "cell_type": "code",
   "execution_count": 3,
   "id": "06eea89e-4c6a-403e-b61b-052d5379dd3a",
   "metadata": {},
   "outputs": [],
   "source": [
    "dataset = load_dataset(\"McAuley-Lab/Amazon-Reviews-2023\", \"raw_meta_Appliances\", split=\"full\")\n",
    "data = []\n",
    "                       \n",
    "for datapoint in dataset:\n",
    "    if datapoint['price'] != 'None':\n",
    "        data.append(datapoint)\n",
    "        "
   ]
  },
  {
   "cell_type": "code",
   "execution_count": 4,
   "id": "9e9d3335-c040-48ac-a321-8ad31b3f5f50",
   "metadata": {},
   "outputs": [
    {
     "name": "stdout",
     "output_type": "stream",
     "text": [
      "46726\n"
     ]
    }
   ],
   "source": [
    "print(len(data))"
   ]
  },
  {
   "cell_type": "code",
   "execution_count": 17,
   "id": "ba724522-95cf-47c6-ac8d-4691fc903142",
   "metadata": {},
   "outputs": [],
   "source": [
    "keys_to_keep = ['title', 'description', 'details', 'features', 'price']\n",
    "data = [{k: datapoint[k] for k in datapoint if k in keys_to_keep} for datapoint in dataset if datapoint['price'] != 'None']"
   ]
  },
  {
   "cell_type": "code",
   "execution_count": null,
   "id": "f857c52a-cf1d-427b-94c0-329799eb9878",
   "metadata": {},
   "outputs": [],
   "source": []
  },
  {
   "cell_type": "code",
   "execution_count": 43,
   "id": "34f6adf5-6a15-4df6-91b2-2722ea25ca98",
   "metadata": {},
   "outputs": [
    {
     "name": "stdout",
     "output_type": "stream",
     "text": [
      "46726\n",
      "dict_keys(['title', 'features', 'description', 'price', 'details'])\n",
      "title: \n",
      "\tWhirlpool W10918546 Igniter\n",
      "\n",
      "features: \n",
      "\t['This is a Genuine OEM Replacement Part.']\n",
      "\n",
      "description: \n",
      "\t['Whirlpool Igniter']\n",
      "\n",
      "price: \n",
      "\t25.07\n",
      "\n",
      "details: \n",
      "\tManufacturer: \n",
      "\t\tWhirlpool\n",
      "\tPart Number: \n",
      "\t\tW10918546\n",
      "\tItem Weight: \n",
      "\t\t1 pounds\n",
      "\tProduct Dimensions: \n",
      "\t\t1 x 1 x 1 inches\n",
      "\tItem model number: \n",
      "\t\tW10918546\n",
      "\tItem Package Quantity: \n",
      "\t\t1\n",
      "\tBatteries Included?: \n",
      "\t\tNo\n",
      "\tBatteries Required?: \n",
      "\t\tNo\n",
      "\tWarranty Description: \n",
      "\t\tThis is a Genuine OEM Replacement Part.\n",
      "\tBest Sellers Rank: \n",
      "\t\t{'Tools & Home Improvement': 655322, 'Parts & Accessories': 93370}\n",
      "\tDate First Available: \n",
      "\t\tApril 19, 2019\n",
      "\n"
     ]
    }
   ],
   "source": [
    "print(len(data))\n",
    "print(data[0].keys())\n",
    "for k, v in data[0].items():\n",
    "    if k == 'details':\n",
    "        try:\n",
    "            v_dict = json.loads(v)\n",
    "            print(f\"{k}: \")\n",
    "            for detail_key, detail_value in v_dict.items():\n",
    "                print(f\"\\t{detail_key}: \\n\\t\\t{detail_value}\")\n",
    "            print()\n",
    "        except ValueError as e:\n",
    "            print(e)\n",
    "    else:\n",
    "        print(f\"{k}: \\n\\t{v}\\n\")"
   ]
  },
  {
   "cell_type": "code",
   "execution_count": 19,
   "id": "20209dd9-967b-44b6-8c21-48b782ef65c5",
   "metadata": {},
   "outputs": [],
   "source": [
    "characters = []\n",
    "prices = []\n",
    "for d in data:\n",
    "    content = d['title'] + str(d['features']) + str(d['description']) + str(d['details'])\n",
    "    characters.append(len(content))\n",
    "    prices.append(float(d['price']))\n"
   ]
  },
  {
   "cell_type": "code",
   "execution_count": null,
   "id": "d6fb1180-b8a9-44bb-81a2-4979e47aee25",
   "metadata": {},
   "outputs": [],
   "source": [
    "avr = sum(characters)/len(characters)\n",
    "plt.figure(figsize=(15,6))\n",
    "plt.title((f\"Number of characters: Avr {avr:,.0f} and highest {max(characters)}\"\n",
    "          f\"    Approximate Avr tokens: {avr//4:,.0f}\"))\n",
    "plt.xlabel(\"Number of characters\")\n",
    "plt.ylabel(\"Count\")\n",
    "plt.hist(characters, rwidth=0.7, color=\"deepskyblue\", bins=range(0, 6000, 100))\n",
    "plt.show()"
   ]
  },
  {
   "cell_type": "code",
   "execution_count": null,
   "id": "6953db70-e98e-4c46-9796-bc4d99c815f0",
   "metadata": {},
   "outputs": [],
   "source": [
    "plt.figure(figsize=(15,6))\n",
    "plt.title(f\"Prices: Avr {sum(prices)/len(prices):,.2f} and highest {max(prices):,}\")\n",
    "plt.xlabel(\"Prices\")\n",
    "plt.ylabel(\"Count\")\n",
    "plt.hist(prices, rwidth=0.7, color=\"salmon\", bins=range(0, 600, 10))\n",
    "plt.show()"
   ]
  },
  {
   "cell_type": "code",
   "execution_count": 231,
   "id": "df953d7e-f422-48e6-a004-83e7ed97517f",
   "metadata": {},
   "outputs": [],
   "source": [
    "# # ESCAPE = \"\"\"\\\t\\ !\"\\#\\$%\\&'\\(\\)\\*\\+,\\-\\./:;<=>\\?@\\[\\\\\\]\\^`\\{\\|\\}\\~",
    " ¡£¤¥¦§¨©«¬­®¯°±´·¸»¿×˚́̊  ​‍‎‏‐‑‒–—―‘’‚“”„•… ",
    " ‰′″›※‼‿⁄€⃣℃℉™↑→↖↘↙∕√∞≈≤≥≦≪⌀⌛⌦⏩⏱⏳⏺ⒶⒷⒸⒹⒺⓇ■▣▪▲△▶▷▸►▼▽◀◄◆◇◈◉◎●◕◢◤◥◦◼◾☀☁☃★☆☉☎☑☔☕☛☝☞☪☰☺☻♀♂♐♕♚♛♠♡♣♥♦♨♪♫♬♻⚒⚗⚙⚠⚡⚪⚫⛅⛓⛔⛳✂✅✆✈✉✊✋✌✍✎✏✐✓✔✚✤✦✧✨✩✪✫✮✯✸✽✾✿❀❁❃❄❅❆❇❉❋❌❎❓❖❗❛❜❣❤❥❰❱➕➡➢➤➥➬➯➱➼➽⬛⬜⭐⭕　、。〃《》「」『』【】〔〕〖〗〚〛〜・㋡㎛㎡︎️﻿！＂＃＄％＆（）＋，－．／：；＜＞？［］｜～｡･�\"\"\"\n",
    "# ESCAPE = \"\"\"\\\t\\ !\"\\#\\$%\\&'\\(\\)\\*\\+,\\-\\./:;<=>\\?@\\[\\\\\\]\\^`\\{\\|\\}\\~",
    " ¡£¤¥¦§¨©«¬­®¯°±´·¸»¿×˚́̊  ​‍‎‏‐‑‒–—―‘’‚“”„•… ",
    " ‰′″›※‼‿⁄€⃣℃℉™↑→↖↘↙∕√∞≈≤≥≦≪⌀⌛⌦⏩⏱⏳⏺ⒶⒷⒸⒹⒺⓇ■▣▪▲△▶▷▸►▼▽◀◄◆◇◈◉◎●◕◢◤◥◦◼◾☀☁☃★☆☉☎☑☔☕☛☝☞☪☰☺☻♀♂♐♕♚♛♠♡♣♥♦♨♪♫♬♻⚒⚗⚙⚠⚡⚪⚫⛅⛓⛔⛳✂✅✆✈✉✊✋✌✍✎✏✐✓✔✚✤✦✧✨✩✪✫✮✯✸✽✾✿❀❁❃❄❅❆❇❉❋❌❎❓❖❗❛❜❣❤❥❰❱➕➡➢➤➥➬➯➱➼➽⬛⬜⭐⭕　、。〃《》「」『』【】〔〕〖〗〚〛〜・㋡㎛㎡︎️﻿！＂＃＄％＆（）＋，－．／：；＜＞？［］｜～｡･�\"\"\"\n",
    "\n",
    "# # ESCAPE = \"\"\"[\\\\!\"\\\\#\\\\$%\\\\&'\\\\(\\\\)\\\\*\\\\+,\\\\-\\\\./:;<=>\\\\?@\\\\[\\\\\\]\\\\^`\\\\{\\\\|\\\\}\\\\~¡£¤¥¦§¨©«¬­®¯°±´·¸»¿×˚́̊​‍‎‏‐‑‒–—―‘’‚“”„•…‰′″›※‼‿⁄€⃣℃℉™↑→↖↘↙∕√∞≈≤≥≦≪⌀⌛⌦⏩⏱⏳⏺ⒶⒷⒸⒹⒺⓇ■▣▪▲△▶▷▸►▼▽◀◄◆◇◈◉◎●◕◢◤◥◦◼◾☀☁☃★☆☉☎☑☔☕☛☝☞☪☰☺☻♀♂♐♕♚♛♠♡♣♥♦♨♪♫♬♻⚒⚗⚙⚠⚡⚪⚫⛅⛓⛔⛳✂✅✆✈✉✊✋✌✍✎✏✐✓✔✚✤✦✧✨✩✪✫✮✯✸✽✾✿❀❁❃❄❅❆❇❉❋❌❎❓❖❗❛❜❣❤❥❰❱➕➡➢➤➥➬➯➱➼➽⬛⬜⭐⭕、。〃《》「」『』【】〔〕〖〗〚〛〜・㋡㎛㎡︎️！＂＃＄％＆（）＋，－．／：；＜＞？［］｜～｡･�]\"\"\"\n",
    "\n",
    "# whitespace_pattern = re.compile(\n",
    "#     r'[\\s\\u00A0\\u1680\\u2000-\\u200A\\u202F\\u205F\\u3000\\uFEFF]', flags=re.UNICODE\n",
    "# )\n",
    "# CLEANED_ESCAPE = whitespace_pattern.sub(\"\", ESCAPE)\n",
    "# # SAFE_ESCAPE = CLEANED_ESCAPE\n",
    "\n",
    "# SAFE_ESCAPE = \"[\" + re.escape(CLEANED_ESCAPE) + ']'\n",
    "# # # SAFE_ESCAPE = '[{}]'\n",
    "\n",
    "# print(ESCAPE_PATTERN.pattern)\n",
    "\n",
    "\n",
    "\n",
    "\n",
    "\n",
    "\n",
    "\n",
    "class Item:\n",
    "    BASE_MODEL = \"meta-llama/Meta-Llama-3.1-8B\"\n",
    "    \n",
    "    MIN_TOKENS = 150 # Any less than this, and we don't have enough useful content\n",
    "    MAX_TOKENS = 160 # Truncate after this many tokens. Then after adding in prompt text, we will get to around 180 tokens\n",
    "    \n",
    "    MIN_CHARS = 300\n",
    "    CEILING_CHARS = MAX_TOKENS * 5\n",
    "\n",
    "    SAFE_ESCAPE = \"\"\"[\\\\\\\\!\"\\\\\\#\\\\\\$%\\\\\\&'\\\\\\(\\\\\\)\\\\\\*\\\\\\+,\\\\\\-\\\\\\./:;<=>\\\\\\?@\\\\\\[\\\\\\\\\\]\\\\\\^`\\\\\\{\\\\\\|\\\\\\}\\\\\\~¡£¤¥¦§¨©«¬­®¯°±´·¸»¿×˚́̊​‍‎‏‐‑‒–—―‘’‚“”„•…‰′″›※‼‿⁄€⃣℃℉™↑→↖↘↙∕√∞≈≤≥≦≪⌀⌛⌦⏩⏱⏳⏺ⒶⒷⒸⒹⒺⓇ■▣▪▲△▶▷▸►▼▽◀◄◆◇◈◉◎●◕◢◤◥◦◼◾☀☁☃★☆☉☎☑☔☕☛☝☞☪☰☺☻♀♂♐♕♚♛♠♡♣♥♦♨♪♫♬♻⚒⚗⚙⚠⚡⚪⚫⛅⛓⛔⛳✂✅✆✈✉✊✋✌✍✎✏✐✓✔✚✤✦✧✨✩✪✫✮✯✸✽✾✿❀❁❃❄❅❆❇❉❋❌❎❓❖❗❛❜❣❤❥❰❱➕➡➢➤➥➬➯➱➼➽⬛⬜⭐⭕、。〃《》「」『』【】〔〕〖〗〚〛〜・㋡㎛㎡︎️！＂＃＄％＆（）＋，－．／：；＜＞？［］｜～｡･�]\"\"\"\n",
    "    ESCAPE_PATTERN = re.compile(SAFE_ESCAPE, flags=re.UNICODE)\n",
    "\n",
    "    tokenizer = AutoTokenizer.from_pretrained(Item.BASE_MODEL, trust_remote_code=True)\n",
    "    PREFIX = \"Price is $\"\n",
    "    QUESTION = \"How much does this cost to the nearest dollar?\"\n",
    "    REMOVALS = ['\"Batteries Included?\": \"No\"', '\"Batteries Included?\": \"Yes\"', \n",
    "                '\"Batteries Required?\": \"No\"', '\"Batteries Required?\": \"Yes\"', \n",
    "                \"By Manufacturer\", \"Item\", \"Date First\", \"Package\", \":\", \"Number of\",\n",
    "                \"Best Sellers\", \"Number\", \"Product \"]\n",
    "    \n",
    "    \n",
    "    def __init__(self, datapoint, price):\n",
    "        self.title = datapoint['title']\n",
    "        self.price = price\n",
    "        self.parse(datapoint)\n",
    "        self.category: str\n",
    "        self.token_count: int = 0\n",
    "        self.details: Optional[str]\n",
    "        self.prompt: Optional[str] = None\n",
    "        self.include: False\n",
    "        \n",
    "    def parse(self, stuff):\n",
    "        descr = datapoint['description']\n",
    "        features = datapoint['features']\n",
    "        self.details = datapoint['details']\n",
    "        \n",
    "        content = \"\"\n",
    "        if descr:\n",
    "            content += \"\\n\".join(descr) + \"\\n\"\n",
    "        if features:\n",
    "            content += \"\\n\".join(features) + \"\\n\"\n",
    "        if self.details:\n",
    "            content += self.scrub_details() + \"\\n\"\n",
    "        \n",
    "        self.content = self.scrub(content)\n",
    "        if len(content) > Item.MIN_CHARS:\n",
    "            content = content[:Item.CEILING_CHARS]\n",
    "            text =f\"{self.title}\\n{self.content}\"\n",
    "            tokens = self.tokenizer.encode(text, add_special_tokens=False)\n",
    "            if len(tokens) > Item.MIN_TOKENS:\n",
    "                tokens = tokens[:Item.MAX_TOKENS]\n",
    "                text = self.tokenizer.decode(tokens)\n",
    "                self.make_prompt(text)\n",
    "                self.include=True\n",
    "                \n",
    "\n",
    "    def scrub_details(self):\n",
    "        details = self.details\n",
    "        for remove in Item.REMOVALS:\n",
    "            details = details.replace(remove, \"\")\n",
    "        return details\n",
    "    \n",
    "    def scrub(self, stuff):\n",
    "        stuff = Item.ESCAPE_PATTERN.sub('', stuff).strip()\n",
    "        words = stuff.split(\" \")\n",
    "        filtered = [w for w in words if len(w) < 6 or not any(char.isdigit() for char in w)]\n",
    "        return \" \".join(filtered)\n",
    "\n",
    "    def make_prompt(self, text):\n",
    "        self.prompt = f\"{Item.QUESTION}\\n\\n{text}\\n\\n\"\n",
    "        self.promt += f\"{Item.PREFIX}{self.price:.2f}\"\n",
    "        self.token_count = len(self.tokenizer.encode(self.prompt, add_special_tokens=False))\n",
    "\n",
    "    def test_prompt(self):\n",
    "        return self.prompt.split(item.PREFIX)[0] + item.PREFIX\n",
    "        \n",
    "    def __repr__(self):\n",
    "        return f\"Title: {self.title}\\nPrice: {self.price:.2f}\\nContent: {self.content}\"\n",
    "        "
   ]
  },
  {
   "cell_type": "code",
   "execution_count": 232,
   "id": "1583aabf-3a2e-41a0-ab88-07156f98e8c7",
   "metadata": {},
   "outputs": [
    {
     "name": "stdout",
     "output_type": "stream",
     "text": [
      "\n",
      "Title: Broan BPQTAF Aluminum Replacement Filter for QT20000 Range Hoods\n",
      "Price: 9.50\n",
      "Content: Rack Rollers Compatible With GE Dishwasher Non-OEM replacement Replaces 2493 DW113 DW604 Color Rack Rollers Compatible With GE YEAR WARRANTY\n",
      "Replaces 2493 DW113 DW604 White\n",
      "Manufacturer Edgewater Parts Part   Weight 6 ounces  Dimensions 6 x 6 x 1 inches Is Discontinued  No    Rank Tools  Home Improvement Parts  Accessories  Available June 1 2016\n"
     ]
    }
   ],
   "source": [
    "item = Item(data[100], float(data[100]['price']))\n",
    "print()\n",
    "print(item)"
   ]
  },
  {
   "cell_type": "code",
   "execution_count": 212,
   "id": "8e00d7f1-0c6f-4290-bce7-293ecca9dbfe",
   "metadata": {},
   "outputs": [],
   "source": [
    "escape = \"\"\"\\\t\\ !\"\\#\\$%\\&'\\(\\)\\*\\+,\\-\\./:;<=>\\?@\\[\\\\\\]\\^`\\{\\|\\}\\~",
    " ¡£¤¥¦§¨©«¬­®¯°±´·¸»¿×˚́̊  ​‍‎‏‐‑‒–—―‘’‚“”„•… ",
    " ‰′″›※‼‿⁄€⃣℃℉™↑→↖↘↙∕√∞≈≤≥≦≪⌀⌛⌦⏩⏱⏳⏺ⒶⒷⒸⒹⒺⓇ■▣▪▲△▶▷▸►▼▽◀◄◆◇◈◉◎●◕◢◤◥◦◼◾☀☁☃★☆☉☎☑☔☕☛☝☞☪☰☺☻♀♂♐♕♚♛♠♡♣♥♦♨♪♫♬♻⚒⚗⚙⚠⚡⚪⚫⛅⛓⛔⛳✂✅✆✈✉✊✋✌✍✎✏✐✓✔✚✤✦✧✨✩✪✫✮✯✸✽✾✿❀❁❃❄❅❆❇❉❋❌❎❓❖❗❛❜❣❤❥❰❱➕➡➢➤➥➬➯➱➼➽⬛⬜⭐⭕　、。〃《》「」『』【】〔〕〖〗〚〛〜・㋡㎛㎡︎️﻿！＂＃＄％＆（）＋，－．／：；＜＞？［］｜～｡･�\"\"\"\n",
    "# escape = \"\"\"[!\"#%&'()+,./:;?\\{|}’”▶【】（）]\"\"\"\n",
    "\n",
    "safe_escape = \"[\" + re.escape(escape) + ']'\n",
    "escape_pattern = re.compile(safe_escape, flags=re.UNICODE)\n",
    "\n",
    "allowed_pattern = re.compile(\"[\\w\\U00010000-\\U0010FFFF]\", flags=re.UNICODE)\n",
    "# allowed_pattern = re.compile(\"[\\w ]\", flags=re.UNICODE)\n",
    "\n",
    "\n",
    "all_symbols = set()\n",
    "escape_symbols = set()\n",
    "allowed_symbols = set()\n",
    "\n",
    "for datapoint in data:\n",
    "    item = Item(datapoint, float(datapoint['price']))\n",
    "    all_symbols |= set(item.content)\n",
    "    escape_symbols |= set(allowed_pattern.sub(\"\", item.content))\n",
    "    allowed_symbols |= set(escape_pattern.sub(\"\", item.content))\n",
    "\n",
    "all_symbols = sorted(all_symbols)\n",
    "escape_symbols = sorted(escape_symbols)\n",
    "allowed_symbols = sorted(allowed_symbols)"
   ]
  },
  {
   "cell_type": "code",
   "execution_count": null,
   "id": "008d8be5-a2e5-425c-af76-028d84f11718",
   "metadata": {},
   "outputs": [],
   "source": [
    "print(f\"All Symbols: [{''.join(all_symbols)}]\\n\")\n",
    "print(f\"Escape Symbols: [{''.join(escape_symbols)}]\\n\")\n",
    "print(f\"Allowed Symbols: [{''.join(allowed_symbols)}]\\n\")\n"
   ]
  },
  {
   "cell_type": "code",
   "execution_count": null,
   "id": "297a3b57-d9b0-48a6-ac73-8f55d93c1b3f",
   "metadata": {},
   "outputs": [],
   "source": []
  }
 ],
 "metadata": {
  "kernelspec": {
   "display_name": "Python 3 (ipykernel)",
   "language": "python",
   "name": "python3"
  },
  "language_info": {
   "codemirror_mode": {
    "name": "ipython",
    "version": 3
   },
   "file_extension": ".py",
   "mimetype": "text/x-python",
   "name": "python",
   "nbconvert_exporter": "python",
   "pygments_lexer": "ipython3",
   "version": "3.11.11"
  }
 },
 "nbformat": 4,
 "nbformat_minor": 5
}
